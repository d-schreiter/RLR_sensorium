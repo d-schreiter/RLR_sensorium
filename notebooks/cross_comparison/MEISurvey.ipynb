{
 "cells": [
  {
   "cell_type": "code",
   "execution_count": 1,
   "metadata": {},
   "outputs": [],
   "source": [
    "import torch\n",
    "import numpy as np\n",
    "import pandas as pd\n",
    "from PIL import Image\n",
    "import matplotlib.pyplot as plt\n",
    "import seaborn as sns\n",
    "import sensorium\n",
    "import warnings\n",
    "warnings.filterwarnings('ignore')\n",
    "import random\n",
    "import os"
   ]
  },
  {
   "cell_type": "markdown",
   "metadata": {},
   "source": [
    "## Loading the MEIs from the autistic, wild-type and sensorium II model."
   ]
  },
  {
   "cell_type": "code",
   "execution_count": 2,
   "metadata": {},
   "outputs": [],
   "source": [
    "meis_a = torch.load(\"MEIs/meis_a400.pt\")\n",
    "meis_wt = torch.load(\"MEIs/meis_wt400.pt\")\n",
    "meis_s = torch.load(\"MEIs/meis_s400.pt\")"
   ]
  },
  {
   "cell_type": "code",
   "execution_count": 3,
   "metadata": {},
   "outputs": [],
   "source": [
    "# Generating 396 random numbers for the following MEI drawing.\n",
    "random_indices_wt = np.random.randint(low=0, high=396, size=396)\n",
    "random_indices_a = np.random.randint(low=0, high=396, size=396)\n",
    "random_indices_s = np.random.randint(low=0, high=396, size=396)"
   ]
  },
  {
   "cell_type": "code",
   "execution_count": 4,
   "metadata": {},
   "outputs": [],
   "source": [
    "subsets = []\n",
    "for _ in range(80):\n",
    "    subset = random.sample(meis_wt, 9)\n",
    "    subsets.append(subset)"
   ]
  },
  {
   "cell_type": "markdown",
   "metadata": {},
   "source": [
    "## Plotting the 3x3 MEI grids(Autistic model)"
   ]
  },
  {
   "cell_type": "code",
   "execution_count": 5,
   "metadata": {},
   "outputs": [],
   "source": [
    "%%capture\n",
    "for i in range(44):\n",
    "    indices = random_indices_a[i*9:(i+1)*9]\n",
    "    meis = [meis_a[i] for i in indices]\n",
    "    fig, axes = plt.subplots(3,3, figsize=(9,9), dpi=150)\n",
    "    for j in range(3):\n",
    "        for k in range(3):\n",
    "            index = j * 3 + k\n",
    "            axes[j, k].imshow(meis[index].reshape(36,64), cmap=\"gray\", vmin=-2, vmax=2)\n",
    "            axes[j, k].spines['top'].set_color('black')\n",
    "            axes[j, k].spines['bottom'].set_color('black')\n",
    "            axes[j, k].spines['left'].set_color('black')\n",
    "            axes[j, k].spines['right'].set_color('black')\n",
    "            axes[j, k].spines['top'].set_linewidth(1)\n",
    "            axes[j, k].spines['bottom'].set_linewidth(1)\n",
    "            axes[j, k].spines['left'].set_linewidth(1)\n",
    "            axes[j, k].spines['right'].set_linewidth(1)\n",
    "            axes[j, k].set_xticks([])\n",
    "            axes[j, k].set_yticks([])\n",
    "    plt.subplots_adjust(wspace=0, hspace=-0.7)\n",
    "    fig.savefig(f\"MEIsSurvey/AUT/MEIsAUT_{i}.png\");"
   ]
  },
  {
   "cell_type": "markdown",
   "metadata": {},
   "source": [
    "## Plotting the 3x3 MEI grids(Wild-type model)"
   ]
  },
  {
   "cell_type": "code",
   "execution_count": 6,
   "metadata": {},
   "outputs": [],
   "source": [
    "%%capture\n",
    "for i in range(80):\n",
    "    meis = subsets[i]\n",
    "    fig, axes = plt.subplots(3,3, figsize=(9,9), dpi=150)\n",
    "    for j in range(3):\n",
    "        for k in range(3):\n",
    "            index = j * 3 + k\n",
    "            axes[j, k].imshow(meis[index].reshape(36,64), cmap=\"gray\", vmin=-2, vmax=2)\n",
    "            axes[j, k].spines['top'].set_color('black')\n",
    "            axes[j, k].spines['bottom'].set_color('black')\n",
    "            axes[j, k].spines['left'].set_color('black')\n",
    "            axes[j, k].spines['right'].set_color('black')\n",
    "            axes[j, k].spines['top'].set_linewidth(1)\n",
    "            axes[j, k].spines['bottom'].set_linewidth(1)\n",
    "            axes[j, k].spines['left'].set_linewidth(1)\n",
    "            axes[j, k].spines['right'].set_linewidth(1)\n",
    "            axes[j, k].set_xticks([])\n",
    "            axes[j, k].set_yticks([])\n",
    "    plt.subplots_adjust(wspace=0, hspace=-0.7)\n",
    "    fig.savefig(f\"MEIsSurvey/WT/MEIsWT_{i}.png\");"
   ]
  },
  {
   "cell_type": "markdown",
   "metadata": {},
   "source": [
    "## Plotting the 3x3 MEI grids(Sensorium II model)"
   ]
  },
  {
   "cell_type": "code",
   "execution_count": 7,
   "metadata": {},
   "outputs": [],
   "source": [
    "%%capture\n",
    "for i in range(44):\n",
    "    indices = random_indices_s[i*9:(i+1)*9]\n",
    "    meis = [meis_s[i] for i in indices]\n",
    "    fig, axes = plt.subplots(3,3, figsize=(9,9), dpi=150)\n",
    "    for j in range(3):\n",
    "        for k in range(3):\n",
    "            index = j * 3 + k\n",
    "            axes[j, k].imshow(meis[index].reshape(36,64), cmap=\"gray\", vmin=-2, vmax=2)\n",
    "            axes[j, k].spines['top'].set_color('black')\n",
    "            axes[j, k].spines['bottom'].set_color('black')\n",
    "            axes[j, k].spines['left'].set_color('black')\n",
    "            axes[j, k].spines['right'].set_color('black')\n",
    "            axes[j, k].spines['top'].set_linewidth(1)\n",
    "            axes[j, k].spines['bottom'].set_linewidth(1)\n",
    "            axes[j, k].spines['left'].set_linewidth(1)\n",
    "            axes[j, k].spines['right'].set_linewidth(1)\n",
    "            axes[j, k].set_xticks([])\n",
    "            axes[j, k].set_yticks([])\n",
    "    plt.subplots_adjust(wspace=0, hspace=-0.7)\n",
    "    fig.savefig(f\"MEIsSurvey/SENS/MEIsSENS_{i}.png\");"
   ]
  },
  {
   "cell_type": "code",
   "execution_count": 8,
   "metadata": {},
   "outputs": [],
   "source": [
    "WT_grids_path = \"MEIsSurvey/WT/\"\n",
    "AUT_grids_path = \"MEIsSurvey/AUT/\"\n",
    "SENS_grids_path = \"MEIsSurvey/SENS/\""
   ]
  },
  {
   "cell_type": "code",
   "execution_count": 9,
   "metadata": {},
   "outputs": [],
   "source": [
    "WT_grids = []\n",
    "AUT_grids = []\n",
    "SENS_grids = []"
   ]
  },
  {
   "cell_type": "code",
   "execution_count": 10,
   "metadata": {},
   "outputs": [],
   "source": [
    "if os.path.exists(WT_grids_path):\n",
    "    files = os.listdir(WT_grids_path)\n",
    "    image_extensions = ('.jpg', '.jpeg', '.png', '.gif', '.bmp', '.tiff', '.webp')\n",
    "    WT_grids = [os.path.join(WT_grids_path, file) for file in files if file.lower().endswith(image_extensions)]"
   ]
  },
  {
   "cell_type": "code",
   "execution_count": 11,
   "metadata": {},
   "outputs": [],
   "source": [
    "if os.path.exists(AUT_grids_path):\n",
    "    files = os.listdir(AUT_grids_path)\n",
    "    image_extensions = ('.jpg', '.jpeg', '.png', '.gif', '.bmp', '.tiff', '.webp')\n",
    "    AUT_grids = [os.path.join(AUT_grids_path, file) for file in files if file.lower().endswith(image_extensions)]"
   ]
  },
  {
   "cell_type": "code",
   "execution_count": 12,
   "metadata": {},
   "outputs": [],
   "source": [
    "if os.path.exists(SENS_grids_path):\n",
    "    files = os.listdir(SENS_grids_path)\n",
    "    image_extensions = ('.jpg', '.jpeg', '.png', '.gif', '.bmp', '.tiff', '.webp')\n",
    "    SENS_grids = [os.path.join(SENS_grids_path, file) for file in files if file.lower().endswith(image_extensions)]"
   ]
  },
  {
   "cell_type": "code",
   "execution_count": 13,
   "metadata": {},
   "outputs": [
    {
     "name": "stdout",
     "output_type": "stream",
     "text": [
      "80 44 44\n"
     ]
    }
   ],
   "source": [
    "print(len(WT_grids), len(AUT_grids), len(SENS_grids))"
   ]
  },
  {
   "cell_type": "markdown",
   "metadata": {},
   "source": [
    "## Creating the each 20 comparisons for the cases \"wild-type - wild-type\", \"wild-type - autistic\" & \"wild-type - sensorium\""
   ]
  },
  {
   "cell_type": "code",
   "execution_count": 14,
   "metadata": {},
   "outputs": [],
   "source": [
    "AUT_grids = AUT_grids[:20]\n",
    "SENS_grids = SENS_grids[:20]"
   ]
  },
  {
   "cell_type": "code",
   "execution_count": 15,
   "metadata": {},
   "outputs": [],
   "source": [
    "WT_grids_20 = WT_grids[60:]\n",
    "WT_grids_60 = WT_grids[:60]"
   ]
  },
  {
   "cell_type": "code",
   "execution_count": 16,
   "metadata": {},
   "outputs": [],
   "source": [
    "WT_final = WT_grids_60"
   ]
  },
  {
   "cell_type": "code",
   "execution_count": 17,
   "metadata": {},
   "outputs": [],
   "source": [
    "WTAUTSENS_final = WT_grids_20+AUT_grids+SENS_grids"
   ]
  },
  {
   "cell_type": "markdown",
   "metadata": {},
   "source": [
    "## Randomizing the grid ordering (left vs right) and question order"
   ]
  },
  {
   "cell_type": "code",
   "execution_count": 18,
   "metadata": {},
   "outputs": [],
   "source": [
    "shuffled_WT_final = random.sample(WT_final, len(WT_final)) \n",
    "shuffled_WTAUTSENS_final = random.sample(WTAUTSENS_final, len(WTAUTSENS_final))"
   ]
  },
  {
   "cell_type": "code",
   "execution_count": 19,
   "metadata": {},
   "outputs": [],
   "source": [
    "leftside_wt = shuffled_WT_final[:30]\n",
    "leftside_wtautsens = shuffled_WTAUTSENS_final[30:]\n",
    "\n",
    "rightside_wt = shuffled_WT_final[30:]\n",
    "rightside_wtautsens = shuffled_WTAUTSENS_final[:30]"
   ]
  },
  {
   "cell_type": "code",
   "execution_count": 20,
   "metadata": {},
   "outputs": [],
   "source": [
    "leftside = leftside_wt + leftside_wtautsens\n",
    "rightside = rightside_wtautsens + rightside_wt"
   ]
  },
  {
   "cell_type": "code",
   "execution_count": 21,
   "metadata": {},
   "outputs": [],
   "source": [
    "random_indices_questionorder = random.sample(range(60), 60)"
   ]
  },
  {
   "cell_type": "code",
   "execution_count": 22,
   "metadata": {},
   "outputs": [],
   "source": [
    "shuffled_leftside = [leftside[i] for i in random_indices_questionorder]\n",
    "shuffled_rightside = [rightside[i] for i in random_indices_questionorder]"
   ]
  },
  {
   "cell_type": "code",
   "execution_count": 23,
   "metadata": {},
   "outputs": [
    {
     "data": {
      "text/plain": [
       "['MEIsSurvey/WT/MEIsWT_75.png',\n",
       " 'MEIsSurvey/AUT/MEIsAUT_14.png',\n",
       " 'MEIsSurvey/WT/MEIsWT_0.png',\n",
       " 'MEIsSurvey/AUT/MEIsAUT_1.png',\n",
       " 'MEIsSurvey/WT/MEIsWT_70.png',\n",
       " 'MEIsSurvey/WT/MEIsWT_12.png',\n",
       " 'MEIsSurvey/AUT/MEIsAUT_42.png',\n",
       " 'MEIsSurvey/SENS/MEIsSENS_43.png',\n",
       " 'MEIsSurvey/SENS/MEIsSENS_25.png',\n",
       " 'MEIsSurvey/WT/MEIsWT_48.png',\n",
       " 'MEIsSurvey/SENS/MEIsSENS_32.png',\n",
       " 'MEIsSurvey/WT/MEIsWT_50.png',\n",
       " 'MEIsSurvey/WT/MEIsWT_16.png',\n",
       " 'MEIsSurvey/WT/MEIsWT_30.png',\n",
       " 'MEIsSurvey/SENS/MEIsSENS_35.png',\n",
       " 'MEIsSurvey/WT/MEIsWT_78.png',\n",
       " 'MEIsSurvey/AUT/MEIsAUT_40.png',\n",
       " 'MEIsSurvey/WT/MEIsWT_40.png',\n",
       " 'MEIsSurvey/AUT/MEIsAUT_18.png',\n",
       " 'MEIsSurvey/WT/MEIsWT_18.png',\n",
       " 'MEIsSurvey/WT/MEIsWT_22.png',\n",
       " 'MEIsSurvey/WT/MEIsWT_66.png',\n",
       " 'MEIsSurvey/WT/MEIsWT_19.png',\n",
       " 'MEIsSurvey/AUT/MEIsAUT_7.png',\n",
       " 'MEIsSurvey/WT/MEIsWT_79.png',\n",
       " 'MEIsSurvey/SENS/MEIsSENS_22.png',\n",
       " 'MEIsSurvey/WT/MEIsWT_52.png',\n",
       " 'MEIsSurvey/WT/MEIsWT_36.png',\n",
       " 'MEIsSurvey/WT/MEIsWT_38.png',\n",
       " 'MEIsSurvey/WT/MEIsWT_60.png',\n",
       " 'MEIsSurvey/WT/MEIsWT_53.png',\n",
       " 'MEIsSurvey/WT/MEIsWT_13.png',\n",
       " 'MEIsSurvey/WT/MEIsWT_29.png',\n",
       " 'MEIsSurvey/WT/MEIsWT_41.png',\n",
       " 'MEIsSurvey/WT/MEIsWT_1.png',\n",
       " 'MEIsSurvey/AUT/MEIsAUT_25.png',\n",
       " 'MEIsSurvey/WT/MEIsWT_59.png',\n",
       " 'MEIsSurvey/WT/MEIsWT_33.png',\n",
       " 'MEIsSurvey/SENS/MEIsSENS_39.png',\n",
       " 'MEIsSurvey/WT/MEIsWT_46.png',\n",
       " 'MEIsSurvey/WT/MEIsWT_11.png',\n",
       " 'MEIsSurvey/AUT/MEIsAUT_30.png',\n",
       " 'MEIsSurvey/WT/MEIsWT_69.png',\n",
       " 'MEIsSurvey/SENS/MEIsSENS_16.png',\n",
       " 'MEIsSurvey/AUT/MEIsAUT_27.png',\n",
       " 'MEIsSurvey/WT/MEIsWT_64.png',\n",
       " 'MEIsSurvey/WT/MEIsWT_14.png',\n",
       " 'MEIsSurvey/WT/MEIsWT_76.png',\n",
       " 'MEIsSurvey/WT/MEIsWT_23.png',\n",
       " 'MEIsSurvey/SENS/MEIsSENS_19.png',\n",
       " 'MEIsSurvey/AUT/MEIsAUT_39.png',\n",
       " 'MEIsSurvey/WT/MEIsWT_55.png',\n",
       " 'MEIsSurvey/AUT/MEIsAUT_35.png',\n",
       " 'MEIsSurvey/WT/MEIsWT_5.png',\n",
       " 'MEIsSurvey/WT/MEIsWT_28.png',\n",
       " 'MEIsSurvey/WT/MEIsWT_71.png',\n",
       " 'MEIsSurvey/WT/MEIsWT_44.png',\n",
       " 'MEIsSurvey/WT/MEIsWT_63.png',\n",
       " 'MEIsSurvey/WT/MEIsWT_15.png',\n",
       " 'MEIsSurvey/WT/MEIsWT_56.png']"
      ]
     },
     "execution_count": 23,
     "metadata": {},
     "output_type": "execute_result"
    }
   ],
   "source": [
    "shuffled_leftside"
   ]
  },
  {
   "cell_type": "code",
   "execution_count": 24,
   "metadata": {},
   "outputs": [
    {
     "data": {
      "text/plain": [
       "['MEIsSurvey/WT/MEIsWT_35.png',\n",
       " 'MEIsSurvey/WT/MEIsWT_9.png',\n",
       " 'MEIsSurvey/AUT/MEIsAUT_28.png',\n",
       " 'MEIsSurvey/WT/MEIsWT_49.png',\n",
       " 'MEIsSurvey/WT/MEIsWT_73.png',\n",
       " 'MEIsSurvey/WT/MEIsWT_51.png',\n",
       " 'MEIsSurvey/WT/MEIsWT_42.png',\n",
       " 'MEIsSurvey/WT/MEIsWT_2.png',\n",
       " 'MEIsSurvey/WT/MEIsWT_37.png',\n",
       " 'MEIsSurvey/SENS/MEIsSENS_23.png',\n",
       " 'MEIsSurvey/WT/MEIsWT_4.png',\n",
       " 'MEIsSurvey/WT/MEIsWT_26.png',\n",
       " 'MEIsSurvey/WT/MEIsWT_74.png',\n",
       " 'MEIsSurvey/WT/MEIsWT_62.png',\n",
       " 'MEIsSurvey/WT/MEIsWT_24.png',\n",
       " 'MEIsSurvey/SENS/MEIsSENS_28.png',\n",
       " 'MEIsSurvey/WT/MEIsWT_72.png',\n",
       " 'MEIsSurvey/AUT/MEIsAUT_0.png',\n",
       " 'MEIsSurvey/WT/MEIsWT_17.png',\n",
       " 'MEIsSurvey/WT/MEIsWT_47.png',\n",
       " 'MEIsSurvey/AUT/MEIsAUT_26.png',\n",
       " 'MEIsSurvey/WT/MEIsWT_77.png',\n",
       " 'MEIsSurvey/WT/MEIsWT_68.png',\n",
       " 'MEIsSurvey/WT/MEIsWT_45.png',\n",
       " 'MEIsSurvey/SENS/MEIsSENS_7.png',\n",
       " 'MEIsSurvey/WT/MEIsWT_61.png',\n",
       " 'MEIsSurvey/WT/MEIsWT_8.png',\n",
       " 'MEIsSurvey/SENS/MEIsSENS_2.png',\n",
       " 'MEIsSurvey/WT/MEIsWT_57.png',\n",
       " 'MEIsSurvey/AUT/MEIsAUT_3.png',\n",
       " 'MEIsSurvey/WT/MEIsWT_6.png',\n",
       " 'MEIsSurvey/SENS/MEIsSENS_21.png',\n",
       " 'MEIsSurvey/SENS/MEIsSENS_9.png',\n",
       " 'MEIsSurvey/WT/MEIsWT_20.png',\n",
       " 'MEIsSurvey/WT/MEIsWT_27.png',\n",
       " 'MEIsSurvey/WT/MEIsWT_3.png',\n",
       " 'MEIsSurvey/SENS/MEIsSENS_0.png',\n",
       " 'MEIsSurvey/WT/MEIsWT_31.png',\n",
       " 'MEIsSurvey/WT/MEIsWT_67.png',\n",
       " 'MEIsSurvey/SENS/MEIsSENS_31.png',\n",
       " 'MEIsSurvey/AUT/MEIsAUT_31.png',\n",
       " 'MEIsSurvey/WT/MEIsWT_32.png',\n",
       " 'MEIsSurvey/SENS/MEIsSENS_3.png',\n",
       " 'MEIsSurvey/WT/MEIsWT_21.png',\n",
       " 'MEIsSurvey/WT/MEIsWT_34.png',\n",
       " 'MEIsSurvey/WT/MEIsWT_54.png',\n",
       " 'MEIsSurvey/WT/MEIsWT_58.png',\n",
       " 'MEIsSurvey/AUT/MEIsAUT_23.png',\n",
       " 'MEIsSurvey/SENS/MEIsSENS_11.png',\n",
       " 'MEIsSurvey/WT/MEIsWT_39.png',\n",
       " 'MEIsSurvey/WT/MEIsWT_25.png',\n",
       " 'MEIsSurvey/SENS/MEIsSENS_14.png',\n",
       " 'MEIsSurvey/WT/MEIsWT_43.png',\n",
       " 'MEIsSurvey/AUT/MEIsAUT_8.png',\n",
       " 'MEIsSurvey/WT/MEIsWT_65.png',\n",
       " 'MEIsSurvey/AUT/MEIsAUT_10.png',\n",
       " 'MEIsSurvey/AUT/MEIsAUT_29.png',\n",
       " 'MEIsSurvey/SENS/MEIsSENS_12.png',\n",
       " 'MEIsSurvey/WT/MEIsWT_10.png',\n",
       " 'MEIsSurvey/WT/MEIsWT_7.png']"
      ]
     },
     "execution_count": 24,
     "metadata": {},
     "output_type": "execute_result"
    }
   ],
   "source": [
    "shuffled_rightside"
   ]
  },
  {
   "cell_type": "code",
   "execution_count": 25,
   "metadata": {},
   "outputs": [],
   "source": [
    "leftside_imgs = []\n",
    "for image_path in shuffled_leftside:\n",
    "    img = Image.open(image_path)\n",
    "    leftside_imgs.append(img)"
   ]
  },
  {
   "cell_type": "code",
   "execution_count": 26,
   "metadata": {},
   "outputs": [],
   "source": [
    "rightside_imgs = []\n",
    "for image_path in shuffled_rightside:\n",
    "    img = Image.open(image_path)\n",
    "    rightside_imgs.append(img)"
   ]
  },
  {
   "cell_type": "markdown",
   "metadata": {},
   "source": [
    "## Plotting the final comparisons."
   ]
  },
  {
   "cell_type": "code",
   "execution_count": 27,
   "metadata": {},
   "outputs": [],
   "source": [
    "%%capture\n",
    "for i in range(60):\n",
    "    plt.figure(figsize=(18,9), dpi=150)\n",
    "\n",
    "    plt.subplot(1,2,1)\n",
    "    plt.title(\"A\", y=0.75, fontsize=16)\n",
    "    plt.imshow(leftside_imgs[i])\n",
    "    plt.axis(\"off\")\n",
    "\n",
    "    plt.subplot(1,2,2)\n",
    "    plt.title(\"B\", y=0.75, fontsize=16)\n",
    "    plt.imshow(rightside_imgs[i])\n",
    "    plt.axis(\"off\")\n",
    "\n",
    "    plt.tight_layout()\n",
    "    plt.savefig(f\"MEIsSurvey/Comparisons/set_{i}.png\", dpi=150)"
   ]
  },
  {
   "cell_type": "code",
   "execution_count": 28,
   "metadata": {},
   "outputs": [],
   "source": [
    "%%capture\n",
    "    !zip -r \"MEIsSurveyComparison.zip\" \"MEIsSurvey\""
   ]
  }
 ],
 "metadata": {
  "kernelspec": {
   "display_name": "Python 3",
   "language": "python",
   "name": "python3"
  },
  "language_info": {
   "codemirror_mode": {
    "name": "ipython",
    "version": 3
   },
   "file_extension": ".py",
   "mimetype": "text/x-python",
   "name": "python",
   "nbconvert_exporter": "python",
   "pygments_lexer": "ipython3",
   "version": "3.8.0"
  }
 },
 "nbformat": 4,
 "nbformat_minor": 4
}
