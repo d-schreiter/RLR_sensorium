{
 "cells": [
  {
   "cell_type": "code",
   "execution_count": 1,
   "metadata": {},
   "outputs": [],
   "source": [
    "import torch\n",
    "import numpy as np\n",
    "import pandas as pd\n",
    "import sensorium\n",
    "import warnings\n",
    "warnings.filterwarnings('ignore')\n",
    "from nnfabrik.builder import get_data, get_model, get_trainer\n",
    "import matplotlib.pyplot as plt"
   ]
  },
  {
   "cell_type": "code",
   "execution_count": 2,
   "metadata": {},
   "outputs": [],
   "source": [
    "seed=31415\n",
    "sensorium_dataPath = \"../data/sensorium_data2022/static22846-10-16-GrayImageNet-94c6ff995dac583098847cfecd43e7b6.zip\"\n",
    "autistic_mouse_dataPath = \"../data/new_data2023/static29027-6-17-1-6-5-GrayImageNetFrame2-7bed7f7379d99271be5d144e5e59a8e7.zip\""
   ]
  },
  {
   "cell_type": "code",
   "execution_count": 3,
   "metadata": {},
   "outputs": [],
   "source": [
    "dataset_fn = 'sensorium.datasets.static_loaders'"
   ]
  },
  {
   "cell_type": "code",
   "execution_count": 4,
   "metadata": {},
   "outputs": [],
   "source": [
    "filenames_autistic = [autistic_mouse_dataPath, ]\n",
    "\n",
    "dataset_config_autistic = {'paths': filenames_autistic,\n",
    "                 'normalize': True,\n",
    "                 'include_behavior': False,\n",
    "                 'include_eye_position': False,\n",
    "                 'batch_size': 128,\n",
    "                 'scale':1,\n",
    "                 }\n",
    "\n",
    "dataloaders_autistic = get_data(dataset_fn, dataset_config_autistic)"
   ]
  },
  {
   "cell_type": "code",
   "execution_count": 5,
   "metadata": {},
   "outputs": [],
   "source": [
    "filenames_sens = [sensorium_dataPath, ]\n",
    "\n",
    "dataset_config_sens = {'paths': filenames_sens,\n",
    "                 'normalize': True,\n",
    "                 'include_behavior': False,\n",
    "                 'include_eye_position': False,\n",
    "                 'batch_size': 128,\n",
    "                 'scale':0.25,\n",
    "                 }\n",
    "\n",
    "dataloaders_sens = get_data(dataset_fn, dataset_config_sens)"
   ]
  },
  {
   "cell_type": "code",
   "execution_count": 6,
   "metadata": {},
   "outputs": [],
   "source": [
    "model_fn = 'sensorium.models.stacked_core_full_gauss_readout'\n",
    "model_config_sens = {'pad_input': False,\n",
    "  'stack': -1,\n",
    "  'layers': 4,\n",
    "  'input_kern': 9,\n",
    "  'gamma_input': 6.3831,\n",
    "  'gamma_readout': 0.0076,\n",
    "  'hidden_kern': 7,\n",
    "  'hidden_channels': 64,\n",
    "  'depth_separable': True,\n",
    "  'grid_mean_predictor': {'type': 'cortex',\n",
    "   'input_dimensions': 2,\n",
    "   'hidden_layers': 1,\n",
    "   'hidden_features': 30,\n",
    "   'final_tanh': True},\n",
    "  'init_sigma': 0.1,\n",
    "  'init_mu_range': 0.3,\n",
    "  'gauss_type': 'full',\n",
    "  'shifter': False,\n",
    "}\n",
    "\n",
    "model_s = get_model(model_fn=model_fn,\n",
    "                  model_config=model_config_sens,\n",
    "                  dataloaders=dataloaders_sens,\n",
    "                  seed=seed,\n",
    "                  )"
   ]
  },
  {
   "cell_type": "code",
   "execution_count": 7,
   "metadata": {},
   "outputs": [],
   "source": [
    "model_sa = get_model(model_fn=model_fn,\n",
    "                    model_config=model_config_sens,\n",
    "                    dataloaders=dataloaders_autistic,\n",
    "                    seed=seed,\n",
    "                    )"
   ]
  },
  {
   "cell_type": "code",
   "execution_count": 8,
   "metadata": {},
   "outputs": [],
   "source": [
    "trainer_fn = \"sensorium.training.standard_trainer\"\n",
    "\n",
    "trainer_config_sens = {'max_iter': 200,\n",
    "                 'verbose': True,\n",
    "                 'lr_decay_steps': 4,\n",
    "                 'avg_loss': False,\n",
    "                 'lr_init': 0.009,\n",
    "                 }\n",
    "\n",
    "trainer_s = get_trainer(trainer_fn=trainer_fn, \n",
    "                     trainer_config=trainer_config_sens)"
   ]
  },
  {
   "cell_type": "code",
   "execution_count": 9,
   "metadata": {},
   "outputs": [
    {
     "name": "stderr",
     "output_type": "stream",
     "text": [
      "Epoch 1: 100%|██████████| 36/36 [00:08<00:00,  4.41it/s]\n",
      "Epoch 2: 100%|██████████| 36/36 [00:03<00:00,  9.17it/s]\n",
      "Epoch 3: 100%|██████████| 36/36 [00:03<00:00,  9.24it/s]\n",
      "Epoch 4: 100%|██████████| 36/36 [00:03<00:00,  9.14it/s]\n",
      "Epoch 5: 100%|██████████| 36/36 [00:03<00:00,  9.16it/s]\n",
      "Epoch 6: 100%|██████████| 36/36 [00:03<00:00,  9.12it/s]\n",
      "Epoch 7: 100%|██████████| 36/36 [00:03<00:00,  9.22it/s]\n",
      "Epoch 8: 100%|██████████| 36/36 [00:03<00:00,  9.07it/s]\n",
      "Epoch 9: 100%|██████████| 36/36 [00:03<00:00,  9.28it/s]\n",
      "Epoch 10: 100%|██████████| 36/36 [00:03<00:00,  9.26it/s]\n",
      "Epoch 11: 100%|██████████| 36/36 [00:03<00:00,  9.09it/s]\n",
      "Epoch 12: 100%|██████████| 36/36 [00:03<00:00,  9.20it/s]\n",
      "Epoch 13: 100%|██████████| 36/36 [00:03<00:00,  9.24it/s]\n",
      "Epoch 14: 100%|██████████| 36/36 [00:03<00:00,  9.26it/s]\n",
      "Epoch 15: 100%|██████████| 36/36 [00:03<00:00,  9.26it/s]\n",
      "Epoch 16: 100%|██████████| 36/36 [00:03<00:00,  9.21it/s]\n",
      "Epoch 17: 100%|██████████| 36/36 [00:03<00:00,  9.12it/s]\n",
      "Epoch 18: 100%|██████████| 36/36 [00:03<00:00,  9.24it/s]\n",
      "Epoch 19: 100%|██████████| 36/36 [00:03<00:00,  9.24it/s]\n",
      "Epoch 20: 100%|██████████| 36/36 [00:03<00:00,  9.24it/s]\n",
      "Epoch 21: 100%|██████████| 36/36 [00:03<00:00,  9.21it/s]\n",
      "Epoch 22: 100%|██████████| 36/36 [00:04<00:00,  8.96it/s]\n",
      "Epoch 23: 100%|██████████| 36/36 [00:04<00:00,  8.83it/s]\n",
      "Epoch 24: 100%|██████████| 36/36 [00:04<00:00,  8.68it/s]\n",
      "Epoch 25: 100%|██████████| 36/36 [00:04<00:00,  8.85it/s]\n",
      "Epoch 26: 100%|██████████| 36/36 [00:03<00:00,  9.04it/s]\n",
      "Epoch 27: 100%|██████████| 36/36 [00:03<00:00,  9.07it/s]\n",
      "Epoch 28: 100%|██████████| 36/36 [00:04<00:00,  8.89it/s]\n",
      "Epoch 29: 100%|██████████| 36/36 [00:04<00:00,  8.98it/s]\n",
      "Epoch 30: 100%|██████████| 36/36 [00:03<00:00,  9.01it/s]\n",
      "Epoch 31: 100%|██████████| 36/36 [00:03<00:00,  9.09it/s]\n",
      "Epoch 32: 100%|██████████| 36/36 [00:04<00:00,  8.94it/s]\n",
      "Epoch 33: 100%|██████████| 36/36 [00:04<00:00,  8.98it/s]\n",
      "Epoch 34: 100%|██████████| 36/36 [00:04<00:00,  8.91it/s]\n",
      "Epoch 35: 100%|██████████| 36/36 [00:03<00:00,  9.03it/s]\n",
      "Epoch 36: 100%|██████████| 36/36 [00:04<00:00,  8.84it/s]\n",
      "Epoch 37: 100%|██████████| 36/36 [00:04<00:00,  8.94it/s]\n",
      "Epoch 38:   0%|          | 0/36 [00:00<?, ?it/s]"
     ]
    },
    {
     "name": "stdout",
     "output_type": "stream",
     "text": [
      "Epoch    37: reducing learning rate of group 0 to 2.7000e-03.\n"
     ]
    },
    {
     "name": "stderr",
     "output_type": "stream",
     "text": [
      "Epoch 38: 100%|██████████| 36/36 [00:04<00:00,  8.83it/s]\n",
      "Epoch 39: 100%|██████████| 36/36 [00:04<00:00,  8.79it/s]\n",
      "Epoch 40: 100%|██████████| 36/36 [00:04<00:00,  8.90it/s]\n",
      "Epoch 41: 100%|██████████| 36/36 [00:04<00:00,  8.96it/s]\n",
      "Epoch 42: 100%|██████████| 36/36 [00:03<00:00,  9.06it/s]\n",
      "Epoch 43: 100%|██████████| 36/36 [00:03<00:00,  9.09it/s]\n",
      "Epoch 44: 100%|██████████| 36/36 [00:03<00:00,  9.25it/s]\n",
      "Epoch 45: 100%|██████████| 36/36 [00:03<00:00,  9.21it/s]\n",
      "Epoch 46: 100%|██████████| 36/36 [00:03<00:00,  9.02it/s]\n",
      "Epoch 47: 100%|██████████| 36/36 [00:03<00:00,  9.25it/s]\n",
      "Epoch 48:   6%|▌         | 2/36 [00:00<00:03, 10.56it/s]"
     ]
    },
    {
     "name": "stdout",
     "output_type": "stream",
     "text": [
      "Epoch    47: reducing learning rate of group 0 to 8.1000e-04.\n"
     ]
    },
    {
     "name": "stderr",
     "output_type": "stream",
     "text": [
      "Epoch 48: 100%|██████████| 36/36 [00:03<00:00,  9.26it/s]\n",
      "Epoch 49: 100%|██████████| 36/36 [00:03<00:00,  9.23it/s]\n",
      "Epoch 50: 100%|██████████| 36/36 [00:03<00:00,  9.11it/s]\n",
      "Epoch 51: 100%|██████████| 36/36 [00:04<00:00,  8.94it/s]\n",
      "Epoch 52: 100%|██████████| 36/36 [00:03<00:00,  9.24it/s]\n",
      "Epoch 53: 100%|██████████| 36/36 [00:03<00:00,  9.25it/s]\n",
      "Epoch 54: 100%|██████████| 36/36 [00:03<00:00,  9.24it/s]\n",
      "Epoch 55: 100%|██████████| 36/36 [00:03<00:00,  9.24it/s]\n",
      "Epoch 56: 100%|██████████| 36/36 [00:03<00:00,  9.24it/s]\n",
      "Epoch 57: 100%|██████████| 36/36 [00:03<00:00,  9.25it/s]\n",
      "Epoch 58:   6%|▌         | 2/36 [00:00<00:03, 10.50it/s]"
     ]
    },
    {
     "name": "stdout",
     "output_type": "stream",
     "text": [
      "Epoch    57: reducing learning rate of group 0 to 2.4300e-04.\n"
     ]
    },
    {
     "name": "stderr",
     "output_type": "stream",
     "text": [
      "Epoch 58: 100%|██████████| 36/36 [00:03<00:00,  9.24it/s]\n",
      "Epoch 59: 100%|██████████| 36/36 [00:03<00:00,  9.23it/s]\n",
      "Epoch 60: 100%|██████████| 36/36 [00:03<00:00,  9.17it/s]\n",
      "Epoch 61: 100%|██████████| 36/36 [00:03<00:00,  9.13it/s]\n"
     ]
    }
   ],
   "source": [
    "validation_score_s, trainer_output_s, state_dict_s = trainer_s(model_s, dataloaders_sens, seed=seed)"
   ]
  },
  {
   "cell_type": "code",
   "execution_count": 10,
   "metadata": {},
   "outputs": [],
   "source": [
    "torch.save(model_s.state_dict(), './model_checkpoints/sensoriumI_model.pth')"
   ]
  },
  {
   "cell_type": "code",
   "execution_count": 11,
   "metadata": {},
   "outputs": [],
   "source": [
    "model_sa.load_state_dict(torch.load(\"./model_checkpoints/sensoriumI_model.pth\"), strict=False);"
   ]
  },
  {
   "cell_type": "code",
   "execution_count": 12,
   "metadata": {},
   "outputs": [
    {
     "name": "stderr",
     "output_type": "stream",
     "text": [
      "Epoch 1: 100%|██████████| 38/38 [00:07<00:00,  5.15it/s]\n",
      "Epoch 2: 100%|██████████| 38/38 [00:03<00:00, 12.18it/s]\n",
      "Epoch 3: 100%|██████████| 38/38 [00:03<00:00, 12.32it/s]\n",
      "Epoch 4: 100%|██████████| 38/38 [00:03<00:00, 12.27it/s]\n",
      "Epoch 5: 100%|██████████| 38/38 [00:03<00:00, 12.33it/s]\n",
      "Epoch 6: 100%|██████████| 38/38 [00:03<00:00, 12.23it/s]\n",
      "Epoch 7: 100%|██████████| 38/38 [00:03<00:00, 12.26it/s]\n",
      "Epoch 8: 100%|██████████| 38/38 [00:03<00:00, 12.25it/s]\n",
      "Epoch 9: 100%|██████████| 38/38 [00:03<00:00, 12.24it/s]\n",
      "Epoch 10: 100%|██████████| 38/38 [00:03<00:00, 12.27it/s]\n",
      "Epoch 11: 100%|██████████| 38/38 [00:03<00:00, 12.26it/s]\n",
      "Epoch 12: 100%|██████████| 38/38 [00:03<00:00, 12.28it/s]\n",
      "Epoch 13: 100%|██████████| 38/38 [00:03<00:00, 12.25it/s]\n",
      "Epoch 14: 100%|██████████| 38/38 [00:03<00:00, 12.26it/s]\n",
      "Epoch 15: 100%|██████████| 38/38 [00:03<00:00, 12.28it/s]\n",
      "Epoch 16:   5%|▌         | 2/38 [00:00<00:02, 13.09it/s]"
     ]
    },
    {
     "name": "stdout",
     "output_type": "stream",
     "text": [
      "Epoch    15: reducing learning rate of group 0 to 2.7000e-03.\n"
     ]
    },
    {
     "name": "stderr",
     "output_type": "stream",
     "text": [
      "Epoch 16: 100%|██████████| 38/38 [00:03<00:00, 12.26it/s]\n",
      "Epoch 17: 100%|██████████| 38/38 [00:03<00:00, 12.00it/s]\n",
      "Epoch 18: 100%|██████████| 38/38 [00:03<00:00, 11.72it/s]\n",
      "Epoch 19: 100%|██████████| 38/38 [00:03<00:00, 11.99it/s]\n",
      "Epoch 20: 100%|██████████| 38/38 [00:03<00:00, 12.01it/s]\n",
      "Epoch 21: 100%|██████████| 38/38 [00:03<00:00, 12.02it/s]\n",
      "Epoch 22: 100%|██████████| 38/38 [00:03<00:00, 12.05it/s]\n",
      "Epoch 23: 100%|██████████| 38/38 [00:03<00:00, 11.99it/s]\n",
      "Epoch 24: 100%|██████████| 38/38 [00:03<00:00, 11.86it/s]\n",
      "Epoch 25: 100%|██████████| 38/38 [00:03<00:00, 12.06it/s]\n",
      "Epoch 26: 100%|██████████| 38/38 [00:03<00:00, 12.11it/s]\n",
      "Epoch 27: 100%|██████████| 38/38 [00:03<00:00, 12.12it/s]\n",
      "Epoch 28: 100%|██████████| 38/38 [00:03<00:00, 12.12it/s]\n",
      "Epoch 29: 100%|██████████| 38/38 [00:03<00:00, 12.26it/s]\n",
      "Epoch 30: 100%|██████████| 38/38 [00:03<00:00, 12.22it/s]\n",
      "Epoch 31: 100%|██████████| 38/38 [00:03<00:00, 12.19it/s]\n",
      "Epoch 32:   5%|▌         | 2/38 [00:00<00:02, 13.13it/s]"
     ]
    },
    {
     "name": "stdout",
     "output_type": "stream",
     "text": [
      "Epoch    31: reducing learning rate of group 0 to 8.1000e-04.\n"
     ]
    },
    {
     "name": "stderr",
     "output_type": "stream",
     "text": [
      "Epoch 32: 100%|██████████| 38/38 [00:03<00:00, 12.12it/s]\n",
      "Epoch 33: 100%|██████████| 38/38 [00:03<00:00, 12.29it/s]\n",
      "Epoch 34: 100%|██████████| 38/38 [00:03<00:00, 12.28it/s]\n",
      "Epoch 35: 100%|██████████| 38/38 [00:03<00:00, 12.31it/s]\n",
      "Epoch 36: 100%|██████████| 38/38 [00:03<00:00, 12.33it/s]\n",
      "Epoch 37: 100%|██████████| 38/38 [00:03<00:00, 12.27it/s]\n",
      "Epoch 38:   5%|▌         | 2/38 [00:00<00:02, 13.31it/s]"
     ]
    },
    {
     "name": "stdout",
     "output_type": "stream",
     "text": [
      "Epoch    37: reducing learning rate of group 0 to 2.4300e-04.\n"
     ]
    },
    {
     "name": "stderr",
     "output_type": "stream",
     "text": [
      "Epoch 38: 100%|██████████| 38/38 [00:03<00:00, 12.26it/s]\n",
      "Epoch 39: 100%|██████████| 38/38 [00:03<00:00, 12.21it/s]\n",
      "Epoch 40: 100%|██████████| 38/38 [00:03<00:00, 12.13it/s]\n",
      "Epoch 41: 100%|██████████| 38/38 [00:03<00:00, 12.06it/s]\n",
      "Epoch 42: 100%|██████████| 38/38 [00:03<00:00, 12.06it/s]\n",
      "Epoch 43: 100%|██████████| 38/38 [00:03<00:00, 12.08it/s]\n",
      "Epoch 44: 100%|██████████| 38/38 [00:03<00:00, 12.03it/s]\n"
     ]
    }
   ],
   "source": [
    "trainer_config_autistic = {\n",
    "    'max_iter': 200,\n",
    "    'detach_core' : True,\n",
    "    'verbose': True,\n",
    "    'lr_decay_steps': 4,\n",
    "    'avg_loss': False,\n",
    "    'lr_init': 0.009,\n",
    "    } \n",
    "trainer_sa = get_trainer(trainer_fn=trainer_fn, trainer_config=trainer_config_autistic)\n",
    "\n",
    "validation_score_sa, trainer_output_sa, state_dict_sa = trainer_sa(model_sa, dataloaders_autistic, seed=seed)"
   ]
  },
  {
   "cell_type": "code",
   "execution_count": 13,
   "metadata": {},
   "outputs": [],
   "source": [
    "torch.save(model_sa.state_dict(), './model_checkpoints/sensoriumI_core_autistic_readout.pth')"
   ]
  }
 ],
 "metadata": {
  "kernelspec": {
   "display_name": "Python 3",
   "language": "python",
   "name": "python3"
  },
  "language_info": {
   "codemirror_mode": {
    "name": "ipython",
    "version": 3
   },
   "file_extension": ".py",
   "mimetype": "text/x-python",
   "name": "python",
   "nbconvert_exporter": "python",
   "pygments_lexer": "ipython3",
   "version": "3.8.0"
  }
 },
 "nbformat": 4,
 "nbformat_minor": 4
}
