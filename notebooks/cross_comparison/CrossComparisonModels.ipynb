{
 "cells": [
  {
   "cell_type": "code",
   "execution_count": 1,
   "metadata": {
    "tags": []
   },
   "outputs": [],
   "source": [
    "import torch\n",
    "import numpy as np\n",
    "import pandas as pd\n",
    "import sensorium\n",
    "import warnings\n",
    "warnings.filterwarnings('ignore')\n",
    "from nnfabrik.builder import get_data, get_model, get_trainer\n",
    "import matplotlib.pyplot as plt"
   ]
  },
  {
   "cell_type": "code",
   "execution_count": 2,
   "metadata": {
    "tags": []
   },
   "outputs": [],
   "source": [
    "seed=31415\n",
    "autistic_mouse_dataPath = \"../data/new_data2023/static29027-6-17-1-6-5-GrayImageNetFrame2-7bed7f7379d99271be5d144e5e59a8e7.zip\"\n",
    "wildtype_mouse_dataPath = \"../data/new_data2023/static29028-1-17-1-6-5-GrayImageNetFrame2-7bed7f7379d99271be5d144e5e59a8e7.zip\""
   ]
  },
  {
   "cell_type": "markdown",
   "metadata": {},
   "source": [
    "## Initialize Dataloaders"
   ]
  },
  {
   "cell_type": "code",
   "execution_count": 3,
   "metadata": {
    "tags": []
   },
   "outputs": [],
   "source": [
    "dataset_fn = 'sensorium.datasets.static_loaders'"
   ]
  },
  {
   "cell_type": "code",
   "execution_count": 4,
   "metadata": {
    "tags": []
   },
   "outputs": [],
   "source": [
    "filenames_autistic = [autistic_mouse_dataPath, ]\n",
    "\n",
    "dataset_config_autistic = {'paths': filenames_autistic,\n",
    "                 'normalize': True,\n",
    "                 'include_behavior': False,\n",
    "                 'include_eye_position': False,\n",
    "                 'batch_size': 128,\n",
    "                 'scale':1,\n",
    "                 }\n",
    "\n",
    "dataloaders_autistic = get_data(dataset_fn, dataset_config_autistic)"
   ]
  },
  {
   "cell_type": "code",
   "execution_count": 5,
   "metadata": {},
   "outputs": [],
   "source": [
    "filenames_wildtype = [wildtype_mouse_dataPath, ]\n",
    "\n",
    "dataset_config_wildtype = {'paths': filenames_wildtype,\n",
    "                 'normalize': True,\n",
    "                 'include_behavior': False,\n",
    "                 'include_eye_position': False,\n",
    "                 'batch_size': 128,\n",
    "                 'scale':1,\n",
    "                 }\n",
    "\n",
    "dataloaders_wildtype = get_data(dataset_fn, dataset_config_wildtype)"
   ]
  },
  {
   "cell_type": "markdown",
   "metadata": {},
   "source": [
    "## Model pretrained on autistic mousedata and readout fine tuned on wild-type mouse data."
   ]
  },
  {
   "cell_type": "code",
   "execution_count": 6,
   "metadata": {},
   "outputs": [],
   "source": [
    "model_fn = 'sensorium.models.stacked_core_full_gauss_readout'"
   ]
  },
  {
   "cell_type": "code",
   "execution_count": 7,
   "metadata": {},
   "outputs": [],
   "source": [
    "model_config_autistic = {'pad_input': False,\n",
    "  'stack': -1,\n",
    "  'layers': 4,\n",
    "  'input_kern': 9,\n",
    "  'gamma_input': 6.3831,\n",
    "  'gamma_readout': 0.0076,\n",
    "  'hidden_kern': 7,\n",
    "  'hidden_channels': 64,\n",
    "  'depth_separable': True,\n",
    "  'grid_mean_predictor': {'type': 'cortex',\n",
    "   'input_dimensions': 2,\n",
    "   'hidden_layers': 1,\n",
    "   'hidden_features': 30,\n",
    "   'final_tanh': True},\n",
    "  'init_sigma': 0.1,\n",
    "  'init_mu_range': 0.3,\n",
    "  'gauss_type': 'full',\n",
    "  'shifter': False,\n",
    "}\n",
    "\n",
    "model_a= get_model(model_fn=model_fn,\n",
    "                  model_config=model_config_autistic,\n",
    "                  dataloaders=dataloaders_autistic,\n",
    "                  seed=seed,\n",
    "                  )"
   ]
  },
  {
   "cell_type": "code",
   "execution_count": 8,
   "metadata": {},
   "outputs": [],
   "source": [
    "model_awt = get_model(model_fn=model_fn,\n",
    "                       model_config=model_config_autistic,\n",
    "                       dataloaders=dataloaders_wildtype,\n",
    "                       seed=seed)"
   ]
  },
  {
   "cell_type": "code",
   "execution_count": 9,
   "metadata": {},
   "outputs": [],
   "source": [
    "trainer_fn = \"sensorium.training.standard_trainer\"\n",
    "\n",
    "trainer_config_autistic = {\n",
    "    'max_iter': 200,\n",
    "    'detach_core' : False,\n",
    "    'verbose': True,\n",
    "    'lr_decay_steps': 4,\n",
    "    'avg_loss': False,\n",
    "    'lr_init': 0.009,\n",
    "    }\n",
    "\n",
    "\n",
    "trainer_a = get_trainer(trainer_fn=trainer_fn, \n",
    "                     trainer_config=trainer_config_autistic)"
   ]
  },
  {
   "cell_type": "code",
   "execution_count": 10,
   "metadata": {},
   "outputs": [
    {
     "name": "stderr",
     "output_type": "stream",
     "text": [
      "Epoch 1: 100%|██████████| 38/38 [00:09<00:00,  4.14it/s]\n",
      "Epoch 2: 100%|██████████| 38/38 [00:04<00:00,  8.74it/s]\n",
      "Epoch 3: 100%|██████████| 38/38 [00:04<00:00,  9.03it/s]\n",
      "Epoch 4: 100%|██████████| 38/38 [00:04<00:00,  9.21it/s]\n",
      "Epoch 5: 100%|██████████| 38/38 [00:04<00:00,  9.03it/s]\n",
      "Epoch 6: 100%|██████████| 38/38 [00:04<00:00,  9.17it/s]\n",
      "Epoch 7: 100%|██████████| 38/38 [00:04<00:00,  8.94it/s]\n",
      "Epoch 8: 100%|██████████| 38/38 [00:04<00:00,  9.19it/s]\n",
      "Epoch 9: 100%|██████████| 38/38 [00:04<00:00,  9.20it/s]\n",
      "Epoch 10: 100%|██████████| 38/38 [00:04<00:00,  9.02it/s]\n",
      "Epoch 11: 100%|██████████| 38/38 [00:04<00:00,  9.09it/s]\n",
      "Epoch 12: 100%|██████████| 38/38 [00:04<00:00,  9.00it/s]\n",
      "Epoch 13: 100%|██████████| 38/38 [00:04<00:00,  8.98it/s]\n",
      "Epoch 14: 100%|██████████| 38/38 [00:04<00:00,  9.12it/s]\n",
      "Epoch 15: 100%|██████████| 38/38 [00:04<00:00,  9.09it/s]\n",
      "Epoch 16: 100%|██████████| 38/38 [00:04<00:00,  9.02it/s]\n",
      "Epoch 17: 100%|██████████| 38/38 [00:04<00:00,  9.16it/s]\n",
      "Epoch 18: 100%|██████████| 38/38 [00:04<00:00,  8.96it/s]\n",
      "Epoch 19: 100%|██████████| 38/38 [00:04<00:00,  9.07it/s]\n",
      "Epoch 20: 100%|██████████| 38/38 [00:04<00:00,  9.08it/s]\n",
      "Epoch 21: 100%|██████████| 38/38 [00:04<00:00,  9.14it/s]\n",
      "Epoch 22: 100%|██████████| 38/38 [00:04<00:00,  9.01it/s]\n",
      "Epoch 23: 100%|██████████| 38/38 [00:04<00:00,  9.17it/s]\n",
      "Epoch 24: 100%|██████████| 38/38 [00:04<00:00,  9.10it/s]\n",
      "Epoch 25: 100%|██████████| 38/38 [00:04<00:00,  9.11it/s]\n",
      "Epoch 26: 100%|██████████| 38/38 [00:04<00:00,  9.23it/s]\n",
      "Epoch 27: 100%|██████████| 38/38 [00:04<00:00,  9.12it/s]\n",
      "Epoch 28: 100%|██████████| 38/38 [00:04<00:00,  9.09it/s]\n",
      "Epoch 29: 100%|██████████| 38/38 [00:04<00:00,  9.19it/s]\n",
      "Epoch 30: 100%|██████████| 38/38 [00:04<00:00,  9.19it/s]\n",
      "Epoch 31: 100%|██████████| 38/38 [00:04<00:00,  9.10it/s]\n",
      "Epoch 32: 100%|██████████| 38/38 [00:04<00:00,  9.12it/s]\n",
      "Epoch 33: 100%|██████████| 38/38 [00:04<00:00,  9.10it/s]\n",
      "Epoch 34: 100%|██████████| 38/38 [00:04<00:00,  9.08it/s]\n",
      "Epoch 35: 100%|██████████| 38/38 [00:04<00:00,  9.18it/s]\n",
      "Epoch 36: 100%|██████████| 38/38 [00:04<00:00,  9.12it/s]\n",
      "Epoch 37: 100%|██████████| 38/38 [00:04<00:00,  9.13it/s]\n",
      "Epoch 38: 100%|██████████| 38/38 [00:04<00:00,  9.04it/s]\n",
      "Epoch 39: 100%|██████████| 38/38 [00:04<00:00,  9.02it/s]\n",
      "Epoch 40: 100%|██████████| 38/38 [00:04<00:00,  9.14it/s]\n",
      "Epoch 41: 100%|██████████| 38/38 [00:04<00:00,  9.06it/s]\n",
      "Epoch 42:   5%|▌         | 2/38 [00:00<00:03, 10.66it/s]"
     ]
    },
    {
     "name": "stdout",
     "output_type": "stream",
     "text": [
      "Epoch    41: reducing learning rate of group 0 to 2.7000e-03.\n"
     ]
    },
    {
     "name": "stderr",
     "output_type": "stream",
     "text": [
      "Epoch 42: 100%|██████████| 38/38 [00:04<00:00,  9.07it/s]\n",
      "Epoch 43: 100%|██████████| 38/38 [00:04<00:00,  9.04it/s]\n",
      "Epoch 44: 100%|██████████| 38/38 [00:04<00:00,  8.97it/s]\n",
      "Epoch 45: 100%|██████████| 38/38 [00:04<00:00,  9.05it/s]\n",
      "Epoch 46: 100%|██████████| 38/38 [00:04<00:00,  9.06it/s]\n",
      "Epoch 47: 100%|██████████| 38/38 [00:04<00:00,  9.02it/s]\n",
      "Epoch 48: 100%|██████████| 38/38 [00:04<00:00,  9.03it/s]\n",
      "Epoch 49: 100%|██████████| 38/38 [00:04<00:00,  8.94it/s]\n",
      "Epoch 50: 100%|██████████| 38/38 [00:04<00:00,  9.06it/s]\n",
      "Epoch 51: 100%|██████████| 38/38 [00:04<00:00,  9.19it/s]\n",
      "Epoch 52: 100%|██████████| 38/38 [00:04<00:00,  8.92it/s]\n",
      "Epoch 53: 100%|██████████| 38/38 [00:04<00:00,  9.10it/s]\n",
      "Epoch 54: 100%|██████████| 38/38 [00:04<00:00,  9.01it/s]\n",
      "Epoch 55: 100%|██████████| 38/38 [00:04<00:00,  9.17it/s]\n",
      "Epoch 56: 100%|██████████| 38/38 [00:04<00:00,  9.04it/s]\n",
      "Epoch 57: 100%|██████████| 38/38 [00:04<00:00,  8.99it/s]\n",
      "Epoch 58: 100%|██████████| 38/38 [00:04<00:00,  9.05it/s]\n",
      "Epoch 59: 100%|██████████| 38/38 [00:04<00:00,  8.96it/s]\n",
      "Epoch 60: 100%|██████████| 38/38 [00:04<00:00,  9.07it/s]\n",
      "Epoch 61:   5%|▌         | 2/38 [00:00<00:03, 10.71it/s]"
     ]
    },
    {
     "name": "stdout",
     "output_type": "stream",
     "text": [
      "Epoch    60: reducing learning rate of group 0 to 8.1000e-04.\n"
     ]
    },
    {
     "name": "stderr",
     "output_type": "stream",
     "text": [
      "Epoch 61: 100%|██████████| 38/38 [00:04<00:00,  9.08it/s]\n",
      "Epoch 62: 100%|██████████| 38/38 [00:04<00:00,  9.02it/s]\n",
      "Epoch 63: 100%|██████████| 38/38 [00:04<00:00,  8.97it/s]\n",
      "Epoch 64: 100%|██████████| 38/38 [00:04<00:00,  8.99it/s]\n",
      "Epoch 65: 100%|██████████| 38/38 [00:04<00:00,  9.06it/s]\n",
      "Epoch 66: 100%|██████████| 38/38 [00:04<00:00,  8.99it/s]\n",
      "Epoch 67:   5%|▌         | 2/38 [00:00<00:03, 10.27it/s]"
     ]
    },
    {
     "name": "stdout",
     "output_type": "stream",
     "text": [
      "Epoch    66: reducing learning rate of group 0 to 2.4300e-04.\n"
     ]
    },
    {
     "name": "stderr",
     "output_type": "stream",
     "text": [
      "Epoch 67: 100%|██████████| 38/38 [00:04<00:00,  8.99it/s]\n",
      "Epoch 68: 100%|██████████| 38/38 [00:04<00:00,  9.09it/s]\n",
      "Epoch 69: 100%|██████████| 38/38 [00:04<00:00,  9.07it/s]\n"
     ]
    }
   ],
   "source": [
    "validation_score_a, trainer_output_a, state_dict_a = trainer_a(model_a, dataloaders_autistic, seed=seed)"
   ]
  },
  {
   "cell_type": "code",
   "execution_count": 11,
   "metadata": {},
   "outputs": [],
   "source": [
    "torch.save(model_a.state_dict(), './model_checkpoints/pretrained_autistic_model.pth')"
   ]
  },
  {
   "cell_type": "code",
   "execution_count": 12,
   "metadata": {},
   "outputs": [
    {
     "data": {
      "text/plain": [
       "_IncompatibleKeys(missing_keys=['readout.29028-1-17-1-6-5.sigma', 'readout.29028-1-17-1-6-5._features', 'readout.29028-1-17-1-6-5.bias', 'readout.29028-1-17-1-6-5.source_grid', 'readout.29028-1-17-1-6-5.mu_transform.0.weight', 'readout.29028-1-17-1-6-5.mu_transform.0.bias', 'readout.29028-1-17-1-6-5.mu_transform.2.weight', 'readout.29028-1-17-1-6-5.mu_transform.2.bias'], unexpected_keys=['readout.29027-6-17-1-6-5.sigma', 'readout.29027-6-17-1-6-5._features', 'readout.29027-6-17-1-6-5.bias', 'readout.29027-6-17-1-6-5.source_grid', 'readout.29027-6-17-1-6-5.mu_transform.0.weight', 'readout.29027-6-17-1-6-5.mu_transform.0.bias', 'readout.29027-6-17-1-6-5.mu_transform.2.weight', 'readout.29027-6-17-1-6-5.mu_transform.2.bias'])"
      ]
     },
     "execution_count": 12,
     "metadata": {},
     "output_type": "execute_result"
    }
   ],
   "source": [
    "model_awt.load_state_dict(torch.load(\"./model_checkpoints/pretrained_autistic_model.pth\"), strict=False)"
   ]
  },
  {
   "cell_type": "code",
   "execution_count": 14,
   "metadata": {},
   "outputs": [
    {
     "name": "stderr",
     "output_type": "stream",
     "text": [
      "Epoch 1: 100%|██████████| 38/38 [00:07<00:00,  5.05it/s]\n",
      "Epoch 2: 100%|██████████| 38/38 [00:03<00:00, 11.69it/s]\n",
      "Epoch 3: 100%|██████████| 38/38 [00:03<00:00, 11.99it/s]\n",
      "Epoch 4: 100%|██████████| 38/38 [00:03<00:00, 11.87it/s]\n",
      "Epoch 5: 100%|██████████| 38/38 [00:03<00:00, 11.96it/s]\n",
      "Epoch 6: 100%|██████████| 38/38 [00:03<00:00, 11.61it/s]\n",
      "Epoch 7: 100%|██████████| 38/38 [00:03<00:00, 11.81it/s]\n",
      "Epoch 8: 100%|██████████| 38/38 [00:03<00:00, 11.93it/s]\n",
      "Epoch 9: 100%|██████████| 38/38 [00:03<00:00, 11.95it/s]\n",
      "Epoch 10: 100%|██████████| 38/38 [00:03<00:00, 12.15it/s]\n",
      "Epoch 11: 100%|██████████| 38/38 [00:03<00:00, 11.88it/s]\n",
      "Epoch 12: 100%|██████████| 38/38 [00:03<00:00, 12.03it/s]\n",
      "Epoch 13: 100%|██████████| 38/38 [00:03<00:00, 12.04it/s]\n",
      "Epoch 14: 100%|██████████| 38/38 [00:03<00:00, 11.99it/s]\n",
      "Epoch 15: 100%|██████████| 38/38 [00:03<00:00, 12.08it/s]\n",
      "Epoch 16: 100%|██████████| 38/38 [00:03<00:00, 12.16it/s]\n",
      "Epoch 17:   5%|▌         | 2/38 [00:00<00:02, 13.09it/s]"
     ]
    },
    {
     "name": "stdout",
     "output_type": "stream",
     "text": [
      "Epoch    16: reducing learning rate of group 0 to 2.7000e-03.\n"
     ]
    },
    {
     "name": "stderr",
     "output_type": "stream",
     "text": [
      "Epoch 17: 100%|██████████| 38/38 [00:03<00:00, 12.00it/s]\n",
      "Epoch 18: 100%|██████████| 38/38 [00:03<00:00, 11.86it/s]\n",
      "Epoch 19: 100%|██████████| 38/38 [00:03<00:00, 11.98it/s]\n",
      "Epoch 20: 100%|██████████| 38/38 [00:03<00:00, 12.02it/s]\n",
      "Epoch 21: 100%|██████████| 38/38 [00:03<00:00, 11.93it/s]\n",
      "Epoch 22: 100%|██████████| 38/38 [00:03<00:00, 12.21it/s]\n",
      "Epoch 23: 100%|██████████| 38/38 [00:03<00:00, 12.02it/s]\n",
      "Epoch 24: 100%|██████████| 38/38 [00:03<00:00, 11.96it/s]\n",
      "Epoch 25: 100%|██████████| 38/38 [00:03<00:00, 12.04it/s]\n",
      "Epoch 26: 100%|██████████| 38/38 [00:03<00:00, 11.90it/s]\n",
      "Epoch 27: 100%|██████████| 38/38 [00:03<00:00, 12.14it/s]\n",
      "Epoch 28: 100%|██████████| 38/38 [00:03<00:00, 12.00it/s]\n",
      "Epoch 29: 100%|██████████| 38/38 [00:03<00:00, 12.01it/s]\n",
      "Epoch 30:   5%|▌         | 2/38 [00:00<00:02, 12.39it/s]"
     ]
    },
    {
     "name": "stdout",
     "output_type": "stream",
     "text": [
      "Epoch    29: reducing learning rate of group 0 to 8.1000e-04.\n"
     ]
    },
    {
     "name": "stderr",
     "output_type": "stream",
     "text": [
      "Epoch 30: 100%|██████████| 38/38 [00:03<00:00, 11.98it/s]\n",
      "Epoch 31: 100%|██████████| 38/38 [00:03<00:00, 11.95it/s]\n",
      "Epoch 32: 100%|██████████| 38/38 [00:03<00:00, 11.98it/s]\n",
      "Epoch 33: 100%|██████████| 38/38 [00:03<00:00, 11.99it/s]\n",
      "Epoch 34: 100%|██████████| 38/38 [00:03<00:00, 12.18it/s]\n",
      "Epoch 35: 100%|██████████| 38/38 [00:03<00:00, 11.98it/s]\n",
      "Epoch 36:   3%|▎         | 1/38 [00:00<00:05,  6.97it/s]"
     ]
    },
    {
     "name": "stdout",
     "output_type": "stream",
     "text": [
      "Epoch    35: reducing learning rate of group 0 to 2.4300e-04.\n"
     ]
    },
    {
     "name": "stderr",
     "output_type": "stream",
     "text": [
      "Epoch 36: 100%|██████████| 38/38 [00:03<00:00, 11.74it/s]\n",
      "Epoch 37: 100%|██████████| 38/38 [00:03<00:00, 11.99it/s]\n",
      "Epoch 38: 100%|██████████| 38/38 [00:03<00:00, 12.19it/s]\n"
     ]
    }
   ],
   "source": [
    "trainer_config_wildtype = {\n",
    "    'max_iter': 200,\n",
    "    'detach_core' : True,\n",
    "    'verbose': True,\n",
    "    'lr_decay_steps': 4,\n",
    "    'avg_loss': False,\n",
    "    'lr_init': 0.009,\n",
    "    }\n",
    "trainer_awt = get_trainer(trainer_fn=trainer_fn, trainer_config=trainer_config_wildtype)\n",
    "\n",
    "validation_score_awt, trainer_output_awt, state_dict_awt = trainer_awt(model_awt, dataloaders_wildtype, seed=seed)"
   ]
  },
  {
   "cell_type": "code",
   "execution_count": 15,
   "metadata": {},
   "outputs": [],
   "source": [
    "torch.save(model_awt.state_dict(), './model_checkpoints/autistic_core_wildtype_readout.pth')"
   ]
  },
  {
   "cell_type": "markdown",
   "metadata": {},
   "source": [
    "## Model pretrained on normal mouse data and fine tuned on autistic mouse data"
   ]
  },
  {
   "cell_type": "code",
   "execution_count": 17,
   "metadata": {},
   "outputs": [],
   "source": [
    "model_fn = 'sensorium.models.stacked_core_full_gauss_readout'\n",
    "model_config_wildtype = {'pad_input': False,\n",
    "  'stack': -1,\n",
    "  'layers': 4,\n",
    "  'input_kern': 9,\n",
    "  'gamma_input': 6.3831,\n",
    "  'gamma_readout': 0.0076,\n",
    "  'hidden_kern': 7,\n",
    "  'hidden_channels': 64,\n",
    "  'depth_separable': True,\n",
    "  'grid_mean_predictor': {'type': 'cortex',\n",
    "   'input_dimensions': 2,\n",
    "   'hidden_layers': 1,\n",
    "   'hidden_features': 30,\n",
    "   'final_tanh': True},\n",
    "  'init_sigma': 0.1,\n",
    "  'init_mu_range': 0.3,\n",
    "  'gauss_type': 'full',\n",
    "  'shifter': False,\n",
    "}\n",
    "\n",
    "model_wt = get_model(model_fn=model_fn,\n",
    "                  model_config=model_config_wildtype,\n",
    "                  dataloaders=dataloaders_wildtype,\n",
    "                  seed=seed,\n",
    "                  )"
   ]
  },
  {
   "cell_type": "code",
   "execution_count": 18,
   "metadata": {},
   "outputs": [],
   "source": [
    "model_wta = get_model(model_fn=model_fn,\n",
    "                    model_config=model_config_wildtype,\n",
    "                    dataloaders=dataloaders_autistic,\n",
    "                    seed=seed,\n",
    "                    )"
   ]
  },
  {
   "cell_type": "code",
   "execution_count": 19,
   "metadata": {},
   "outputs": [],
   "source": [
    "trainer_fn = \"sensorium.training.standard_trainer\"\n",
    "\n",
    "trainer_config_wildtype = {'max_iter': 200,\n",
    "                 'verbose': True,\n",
    "                 'lr_decay_steps': 4,\n",
    "                 'avg_loss': False,\n",
    "                 'lr_init': 0.009,\n",
    "                 }\n",
    "\n",
    "trainer_wt = get_trainer(trainer_fn=trainer_fn, \n",
    "                     trainer_config=trainer_config_wildtype)"
   ]
  },
  {
   "cell_type": "code",
   "execution_count": 20,
   "metadata": {},
   "outputs": [
    {
     "name": "stderr",
     "output_type": "stream",
     "text": [
      "Epoch 1: 100%|██████████| 38/38 [00:04<00:00,  9.08it/s]\n",
      "Epoch 2: 100%|██████████| 38/38 [00:04<00:00,  9.17it/s]\n",
      "Epoch 3: 100%|██████████| 38/38 [00:04<00:00,  9.28it/s]\n",
      "Epoch 4: 100%|██████████| 38/38 [00:04<00:00,  9.17it/s]\n",
      "Epoch 5: 100%|██████████| 38/38 [00:04<00:00,  9.21it/s]\n",
      "Epoch 6: 100%|██████████| 38/38 [00:04<00:00,  8.99it/s]\n",
      "Epoch 7: 100%|██████████| 38/38 [00:04<00:00,  9.15it/s]\n",
      "Epoch 8: 100%|██████████| 38/38 [00:04<00:00,  9.03it/s]\n",
      "Epoch 9: 100%|██████████| 38/38 [00:04<00:00,  9.27it/s]\n",
      "Epoch 10: 100%|██████████| 38/38 [00:04<00:00,  9.16it/s]\n",
      "Epoch 11: 100%|██████████| 38/38 [00:04<00:00,  9.19it/s]\n",
      "Epoch 12: 100%|██████████| 38/38 [00:04<00:00,  9.20it/s]\n",
      "Epoch 13: 100%|██████████| 38/38 [00:04<00:00,  9.17it/s]\n",
      "Epoch 14: 100%|██████████| 38/38 [00:04<00:00,  9.21it/s]\n",
      "Epoch 15: 100%|██████████| 38/38 [00:04<00:00,  9.12it/s]\n",
      "Epoch 16: 100%|██████████| 38/38 [00:04<00:00,  9.12it/s]\n",
      "Epoch 17: 100%|██████████| 38/38 [00:04<00:00,  9.09it/s]\n",
      "Epoch 18: 100%|██████████| 38/38 [00:04<00:00,  9.18it/s]\n",
      "Epoch 19: 100%|██████████| 38/38 [00:04<00:00,  9.14it/s]\n",
      "Epoch 20: 100%|██████████| 38/38 [00:04<00:00,  9.16it/s]\n",
      "Epoch 21: 100%|██████████| 38/38 [00:04<00:00,  8.83it/s]\n",
      "Epoch 22: 100%|██████████| 38/38 [00:04<00:00,  9.18it/s]\n",
      "Epoch 23: 100%|██████████| 38/38 [00:04<00:00,  9.12it/s]\n",
      "Epoch 24: 100%|██████████| 38/38 [00:04<00:00,  9.14it/s]\n",
      "Epoch 25: 100%|██████████| 38/38 [00:04<00:00,  9.15it/s]\n",
      "Epoch 26: 100%|██████████| 38/38 [00:04<00:00,  9.14it/s]\n",
      "Epoch 27: 100%|██████████| 38/38 [00:04<00:00,  8.97it/s]\n",
      "Epoch 28: 100%|██████████| 38/38 [00:04<00:00,  8.99it/s]\n",
      "Epoch 29: 100%|██████████| 38/38 [00:04<00:00,  9.17it/s]\n",
      "Epoch 30: 100%|██████████| 38/38 [00:04<00:00,  9.18it/s]\n",
      "Epoch 31: 100%|██████████| 38/38 [00:04<00:00,  9.16it/s]\n",
      "Epoch 32:   5%|▌         | 2/38 [00:00<00:03, 10.06it/s]"
     ]
    },
    {
     "name": "stdout",
     "output_type": "stream",
     "text": [
      "Epoch    31: reducing learning rate of group 0 to 2.7000e-03.\n"
     ]
    },
    {
     "name": "stderr",
     "output_type": "stream",
     "text": [
      "Epoch 32: 100%|██████████| 38/38 [00:04<00:00,  9.11it/s]\n",
      "Epoch 33: 100%|██████████| 38/38 [00:04<00:00,  9.07it/s]\n",
      "Epoch 34: 100%|██████████| 38/38 [00:04<00:00,  9.21it/s]\n",
      "Epoch 35: 100%|██████████| 38/38 [00:04<00:00,  9.10it/s]\n",
      "Epoch 36: 100%|██████████| 38/38 [00:04<00:00,  9.17it/s]\n",
      "Epoch 37: 100%|██████████| 38/38 [00:04<00:00,  9.15it/s]\n",
      "Epoch 38: 100%|██████████| 38/38 [00:04<00:00,  9.02it/s]\n",
      "Epoch 39: 100%|██████████| 38/38 [00:04<00:00,  9.15it/s]\n",
      "Epoch 40: 100%|██████████| 38/38 [00:04<00:00,  9.09it/s]\n",
      "Epoch 41: 100%|██████████| 38/38 [00:04<00:00,  9.12it/s]\n",
      "Epoch 42: 100%|██████████| 38/38 [00:04<00:00,  9.10it/s]\n",
      "Epoch 43: 100%|██████████| 38/38 [00:04<00:00,  9.09it/s]\n",
      "Epoch 44: 100%|██████████| 38/38 [00:04<00:00,  9.12it/s]\n",
      "Epoch 45: 100%|██████████| 38/38 [00:04<00:00,  9.14it/s]\n",
      "Epoch 46: 100%|██████████| 38/38 [00:04<00:00,  9.13it/s]\n",
      "Epoch 47: 100%|██████████| 38/38 [00:04<00:00,  9.06it/s]\n",
      "Epoch 48: 100%|██████████| 38/38 [00:04<00:00,  9.09it/s]\n",
      "Epoch 49: 100%|██████████| 38/38 [00:04<00:00,  9.09it/s]\n",
      "Epoch 50: 100%|██████████| 38/38 [00:04<00:00,  9.06it/s]\n",
      "Epoch 51: 100%|██████████| 38/38 [00:04<00:00,  9.07it/s]\n",
      "Epoch 52: 100%|██████████| 38/38 [00:04<00:00,  8.96it/s]\n",
      "Epoch 53: 100%|██████████| 38/38 [00:04<00:00,  9.04it/s]\n",
      "Epoch 54: 100%|██████████| 38/38 [00:04<00:00,  9.12it/s]\n",
      "Epoch 55: 100%|██████████| 38/38 [00:04<00:00,  9.13it/s]\n",
      "Epoch 56: 100%|██████████| 38/38 [00:04<00:00,  9.13it/s]\n",
      "Epoch 57: 100%|██████████| 38/38 [00:04<00:00,  9.12it/s]\n",
      "Epoch 58: 100%|██████████| 38/38 [00:04<00:00,  9.01it/s]\n",
      "Epoch 59: 100%|██████████| 38/38 [00:04<00:00,  9.04it/s]\n",
      "Epoch 60: 100%|██████████| 38/38 [00:04<00:00,  9.23it/s]\n",
      "Epoch 61: 100%|██████████| 38/38 [00:04<00:00,  9.20it/s]\n"
     ]
    }
   ],
   "source": [
    "validation_score_wt, trainer_output_wt, state_dict_wt = trainer_wt(model_wt, dataloaders_wildtype, seed=seed)"
   ]
  },
  {
   "cell_type": "code",
   "execution_count": 21,
   "metadata": {},
   "outputs": [],
   "source": [
    "torch.save(model_wt.state_dict(), './model_checkpoints/pretrained_wildtype_model.pth')"
   ]
  },
  {
   "cell_type": "code",
   "execution_count": 22,
   "metadata": {},
   "outputs": [],
   "source": [
    "model_wta.load_state_dict(torch.load(\"./model_checkpoints/pretrained_wildtype_model.pth\"), strict=False);"
   ]
  },
  {
   "cell_type": "code",
   "execution_count": 23,
   "metadata": {},
   "outputs": [
    {
     "name": "stderr",
     "output_type": "stream",
     "text": [
      "Epoch 1: 100%|██████████| 38/38 [00:03<00:00, 12.05it/s]\n",
      "Epoch 2: 100%|██████████| 38/38 [00:03<00:00, 12.07it/s]\n",
      "Epoch 3: 100%|██████████| 38/38 [00:03<00:00, 11.87it/s]\n",
      "Epoch 4: 100%|██████████| 38/38 [00:03<00:00, 11.83it/s]\n",
      "Epoch 5: 100%|██████████| 38/38 [00:03<00:00, 12.06it/s]\n",
      "Epoch 6: 100%|██████████| 38/38 [00:03<00:00, 11.88it/s]\n",
      "Epoch 7: 100%|██████████| 38/38 [00:03<00:00, 12.03it/s]\n",
      "Epoch 8: 100%|██████████| 38/38 [00:03<00:00, 11.71it/s]\n",
      "Epoch 9: 100%|██████████| 38/38 [00:03<00:00, 11.93it/s]\n",
      "Epoch 10: 100%|██████████| 38/38 [00:03<00:00, 11.84it/s]\n",
      "Epoch 11: 100%|██████████| 38/38 [00:03<00:00, 11.85it/s]\n",
      "Epoch 12: 100%|██████████| 38/38 [00:03<00:00, 12.02it/s]\n",
      "Epoch 13: 100%|██████████| 38/38 [00:03<00:00, 11.85it/s]\n",
      "Epoch 14: 100%|██████████| 38/38 [00:03<00:00, 12.12it/s]\n",
      "Epoch 15: 100%|██████████| 38/38 [00:03<00:00, 11.90it/s]\n",
      "Epoch 16: 100%|██████████| 38/38 [00:03<00:00, 11.99it/s]\n",
      "Epoch 17: 100%|██████████| 38/38 [00:03<00:00, 12.09it/s]\n",
      "Epoch 18: 100%|██████████| 38/38 [00:03<00:00, 12.07it/s]\n",
      "Epoch 19: 100%|██████████| 38/38 [00:03<00:00, 11.83it/s]\n",
      "Epoch 20: 100%|██████████| 38/38 [00:03<00:00, 11.99it/s]\n",
      "Epoch 21: 100%|██████████| 38/38 [00:03<00:00, 12.09it/s]\n",
      "Epoch 22: 100%|██████████| 38/38 [00:03<00:00, 11.74it/s]\n",
      "Epoch 23: 100%|██████████| 38/38 [00:03<00:00, 11.79it/s]\n",
      "Epoch 24: 100%|██████████| 38/38 [00:03<00:00, 11.99it/s]\n",
      "Epoch 25: 100%|██████████| 38/38 [00:03<00:00, 12.13it/s]\n",
      "Epoch 26: 100%|██████████| 38/38 [00:03<00:00, 11.93it/s]\n",
      "Epoch 27:   5%|▌         | 2/38 [00:00<00:02, 12.60it/s]"
     ]
    },
    {
     "name": "stdout",
     "output_type": "stream",
     "text": [
      "Epoch    26: reducing learning rate of group 0 to 2.7000e-03.\n"
     ]
    },
    {
     "name": "stderr",
     "output_type": "stream",
     "text": [
      "Epoch 27: 100%|██████████| 38/38 [00:03<00:00, 11.85it/s]\n",
      "Epoch 28: 100%|██████████| 38/38 [00:03<00:00, 11.94it/s]\n",
      "Epoch 29: 100%|██████████| 38/38 [00:03<00:00, 11.72it/s]\n",
      "Epoch 30: 100%|██████████| 38/38 [00:03<00:00, 11.84it/s]\n",
      "Epoch 31: 100%|██████████| 38/38 [00:03<00:00, 11.85it/s]\n",
      "Epoch 32: 100%|██████████| 38/38 [00:03<00:00, 11.90it/s]\n",
      "Epoch 33: 100%|██████████| 38/38 [00:03<00:00, 11.92it/s]\n",
      "Epoch 34: 100%|██████████| 38/38 [00:03<00:00, 12.05it/s]\n",
      "Epoch 35: 100%|██████████| 38/38 [00:03<00:00, 11.94it/s]\n",
      "Epoch 36: 100%|██████████| 38/38 [00:03<00:00, 11.95it/s]\n",
      "Epoch 37: 100%|██████████| 38/38 [00:03<00:00, 11.93it/s]\n",
      "Epoch 38: 100%|██████████| 38/38 [00:03<00:00, 11.80it/s]\n",
      "Epoch 39:   5%|▌         | 2/38 [00:00<00:02, 12.63it/s]"
     ]
    },
    {
     "name": "stdout",
     "output_type": "stream",
     "text": [
      "Epoch    38: reducing learning rate of group 0 to 8.1000e-04.\n"
     ]
    },
    {
     "name": "stderr",
     "output_type": "stream",
     "text": [
      "Epoch 39: 100%|██████████| 38/38 [00:03<00:00, 11.68it/s]\n",
      "Epoch 40: 100%|██████████| 38/38 [00:03<00:00, 11.91it/s]\n",
      "Epoch 41: 100%|██████████| 38/38 [00:03<00:00, 11.84it/s]\n",
      "Epoch 42: 100%|██████████| 38/38 [00:03<00:00, 12.01it/s]\n",
      "Epoch 43: 100%|██████████| 38/38 [00:03<00:00, 11.75it/s]\n",
      "Epoch 44: 100%|██████████| 38/38 [00:03<00:00, 11.90it/s]\n",
      "Epoch 45:   5%|▌         | 2/38 [00:00<00:02, 12.98it/s]"
     ]
    },
    {
     "name": "stdout",
     "output_type": "stream",
     "text": [
      "Epoch    44: reducing learning rate of group 0 to 2.4300e-04.\n"
     ]
    },
    {
     "name": "stderr",
     "output_type": "stream",
     "text": [
      "Epoch 45: 100%|██████████| 38/38 [00:03<00:00, 11.79it/s]\n",
      "Epoch 46: 100%|██████████| 38/38 [00:03<00:00, 11.85it/s]\n",
      "Epoch 47: 100%|██████████| 38/38 [00:03<00:00, 11.69it/s]\n"
     ]
    }
   ],
   "source": [
    "trainer_config_autistic = {\n",
    "    'max_iter': 200,\n",
    "    'detach_core' : True,\n",
    "    'verbose': True,\n",
    "    'lr_decay_steps': 4,\n",
    "    'avg_loss': False,\n",
    "    'lr_init': 0.009,\n",
    "    } \n",
    "trainer_wta = get_trainer(trainer_fn=trainer_fn, trainer_config=trainer_config_autistic)\n",
    "\n",
    "validation_score_wta, trainer_output_wta, state_dict_wta = trainer_wta(model_wta, dataloaders_autistic, seed=seed)"
   ]
  },
  {
   "cell_type": "code",
   "execution_count": 25,
   "metadata": {},
   "outputs": [],
   "source": [
    "torch.save(model_wta.state_dict(), './model_checkpoints/wildtype_core_autistic_readout.pth')"
   ]
  },
  {
   "cell_type": "markdown",
   "metadata": {},
   "source": [
    "## One-dataset models: wild-type (Core + Readout) and autistic (Core + Readout)"
   ]
  },
  {
   "cell_type": "code",
   "execution_count": 26,
   "metadata": {},
   "outputs": [],
   "source": [
    "model_fn = 'sensorium.models.stacked_core_full_gauss_readout'\n",
    "model_config_wildtype = {'pad_input': False,\n",
    "  'stack': -1,\n",
    "  'layers': 4,\n",
    "  'input_kern': 9,\n",
    "  'gamma_input': 6.3831,\n",
    "  'gamma_readout': 0.0076,\n",
    "  'hidden_kern': 7,\n",
    "  'hidden_channels': 64,\n",
    "  'depth_separable': True,\n",
    "  'grid_mean_predictor': {'type': 'cortex',\n",
    "   'input_dimensions': 2,\n",
    "   'hidden_layers': 1,\n",
    "   'hidden_features': 30,\n",
    "   'final_tanh': True},\n",
    "  'init_sigma': 0.1,\n",
    "  'init_mu_range': 0.3,\n",
    "  'gauss_type': 'full',\n",
    "  'shifter': False,\n",
    "}\n",
    "\n",
    "model_wt = get_model(model_fn=model_fn,\n",
    "                  model_config=model_config_wildtype,\n",
    "                  dataloaders=dataloaders_wildtype,\n",
    "                  seed=seed,\n",
    "                  )\n",
    "trainer_fn = \"sensorium.training.standard_trainer\"\n",
    "\n",
    "trainer_config_wildtype = {'max_iter': 200,\n",
    "                 'verbose': True,\n",
    "                 'lr_decay_steps': 4,\n",
    "                 'avg_loss': False,\n",
    "                 'lr_init': 0.009,\n",
    "                 }\n",
    "\n",
    "trainer_wildtype = get_trainer(trainer_fn=trainer_fn, \n",
    "                     trainer_config=trainer_config_wildtype)"
   ]
  },
  {
   "cell_type": "code",
   "execution_count": 27,
   "metadata": {},
   "outputs": [
    {
     "name": "stderr",
     "output_type": "stream",
     "text": [
      "Epoch 1: 100%|██████████| 38/38 [00:04<00:00,  8.65it/s]\n",
      "Epoch 2: 100%|██████████| 38/38 [00:04<00:00,  9.16it/s]\n",
      "Epoch 3: 100%|██████████| 38/38 [00:04<00:00,  9.02it/s]\n",
      "Epoch 4: 100%|██████████| 38/38 [00:04<00:00,  9.12it/s]\n",
      "Epoch 5: 100%|██████████| 38/38 [00:04<00:00,  9.09it/s]\n",
      "Epoch 6: 100%|██████████| 38/38 [00:04<00:00,  9.13it/s]\n",
      "Epoch 7: 100%|██████████| 38/38 [00:04<00:00,  9.16it/s]\n",
      "Epoch 8: 100%|██████████| 38/38 [00:04<00:00,  9.16it/s]\n",
      "Epoch 9: 100%|██████████| 38/38 [00:04<00:00,  9.18it/s]\n",
      "Epoch 10: 100%|██████████| 38/38 [00:04<00:00,  9.14it/s]\n",
      "Epoch 11: 100%|██████████| 38/38 [00:04<00:00,  9.08it/s]\n",
      "Epoch 12: 100%|██████████| 38/38 [00:04<00:00,  9.28it/s]\n",
      "Epoch 13: 100%|██████████| 38/38 [00:04<00:00,  9.25it/s]\n",
      "Epoch 14: 100%|██████████| 38/38 [00:04<00:00,  9.19it/s]\n",
      "Epoch 15: 100%|██████████| 38/38 [00:04<00:00,  9.18it/s]\n",
      "Epoch 16: 100%|██████████| 38/38 [00:04<00:00,  9.13it/s]\n",
      "Epoch 17: 100%|██████████| 38/38 [00:04<00:00,  9.14it/s]\n",
      "Epoch 18: 100%|██████████| 38/38 [00:04<00:00,  9.17it/s]\n",
      "Epoch 19: 100%|██████████| 38/38 [00:04<00:00,  9.15it/s]\n",
      "Epoch 20: 100%|██████████| 38/38 [00:04<00:00,  9.14it/s]\n",
      "Epoch 21: 100%|██████████| 38/38 [00:04<00:00,  9.22it/s]\n",
      "Epoch 22: 100%|██████████| 38/38 [00:04<00:00,  9.11it/s]\n",
      "Epoch 23: 100%|██████████| 38/38 [00:04<00:00,  9.11it/s]\n",
      "Epoch 24: 100%|██████████| 38/38 [00:04<00:00,  9.16it/s]\n",
      "Epoch 25: 100%|██████████| 38/38 [00:04<00:00,  9.11it/s]\n",
      "Epoch 26: 100%|██████████| 38/38 [00:04<00:00,  9.12it/s]\n",
      "Epoch 27: 100%|██████████| 38/38 [00:04<00:00,  9.23it/s]\n",
      "Epoch 28: 100%|██████████| 38/38 [00:04<00:00,  9.13it/s]\n",
      "Epoch 29: 100%|██████████| 38/38 [00:04<00:00,  9.21it/s]\n",
      "Epoch 30: 100%|██████████| 38/38 [00:04<00:00,  9.17it/s]\n",
      "Epoch 31: 100%|██████████| 38/38 [00:04<00:00,  9.22it/s]\n",
      "Epoch 32: 100%|██████████| 38/38 [00:04<00:00,  8.89it/s]\n",
      "Epoch 33: 100%|██████████| 38/38 [00:04<00:00,  9.09it/s]\n",
      "Epoch 34: 100%|██████████| 38/38 [00:04<00:00,  9.08it/s]\n",
      "Epoch 35: 100%|██████████| 38/38 [00:04<00:00,  9.17it/s]\n",
      "Epoch 36: 100%|██████████| 38/38 [00:04<00:00,  9.17it/s]\n",
      "Epoch 37: 100%|██████████| 38/38 [00:04<00:00,  9.12it/s]\n",
      "Epoch 38: 100%|██████████| 38/38 [00:04<00:00,  9.07it/s]\n",
      "Epoch 39: 100%|██████████| 38/38 [00:04<00:00,  9.17it/s]\n",
      "Epoch 40:   5%|▌         | 2/38 [00:00<00:03, 10.35it/s]"
     ]
    },
    {
     "name": "stdout",
     "output_type": "stream",
     "text": [
      "Epoch    39: reducing learning rate of group 0 to 2.7000e-03.\n"
     ]
    },
    {
     "name": "stderr",
     "output_type": "stream",
     "text": [
      "Epoch 40: 100%|██████████| 38/38 [00:04<00:00,  9.14it/s]\n",
      "Epoch 41: 100%|██████████| 38/38 [00:04<00:00,  9.12it/s]\n",
      "Epoch 42: 100%|██████████| 38/38 [00:04<00:00,  9.06it/s]\n",
      "Epoch 43: 100%|██████████| 38/38 [00:04<00:00,  9.07it/s]\n",
      "Epoch 44: 100%|██████████| 38/38 [00:04<00:00,  9.14it/s]\n",
      "Epoch 45: 100%|██████████| 38/38 [00:04<00:00,  9.15it/s]\n",
      "Epoch 46: 100%|██████████| 38/38 [00:04<00:00,  9.16it/s]\n",
      "Epoch 47: 100%|██████████| 38/38 [00:04<00:00,  9.22it/s]\n",
      "Epoch 48: 100%|██████████| 38/38 [00:04<00:00,  9.14it/s]\n",
      "Epoch 49: 100%|██████████| 38/38 [00:04<00:00,  9.14it/s]\n",
      "Epoch 50: 100%|██████████| 38/38 [00:04<00:00,  9.18it/s]\n",
      "Epoch 51: 100%|██████████| 38/38 [00:04<00:00,  9.18it/s]\n",
      "Epoch 52: 100%|██████████| 38/38 [00:04<00:00,  9.21it/s]\n",
      "Epoch 53: 100%|██████████| 38/38 [00:04<00:00,  9.10it/s]\n",
      "Epoch 54: 100%|██████████| 38/38 [00:04<00:00,  9.10it/s]\n",
      "Epoch 55: 100%|██████████| 38/38 [00:04<00:00,  9.11it/s]\n",
      "Epoch 56:   5%|▌         | 2/38 [00:00<00:03, 10.23it/s]"
     ]
    },
    {
     "name": "stdout",
     "output_type": "stream",
     "text": [
      "Epoch    55: reducing learning rate of group 0 to 8.1000e-04.\n"
     ]
    },
    {
     "name": "stderr",
     "output_type": "stream",
     "text": [
      "Epoch 56: 100%|██████████| 38/38 [00:04<00:00,  9.16it/s]\n",
      "Epoch 57: 100%|██████████| 38/38 [00:04<00:00,  9.15it/s]\n",
      "Epoch 58: 100%|██████████| 38/38 [00:04<00:00,  9.16it/s]\n",
      "Epoch 59: 100%|██████████| 38/38 [00:04<00:00,  9.13it/s]\n",
      "Epoch 60: 100%|██████████| 38/38 [00:04<00:00,  9.16it/s]\n",
      "Epoch 61: 100%|██████████| 38/38 [00:04<00:00,  8.86it/s]\n",
      "Epoch 62: 100%|██████████| 38/38 [00:04<00:00,  9.16it/s]\n",
      "Epoch 63: 100%|██████████| 38/38 [00:04<00:00,  9.04it/s]\n",
      "Epoch 64: 100%|██████████| 38/38 [00:04<00:00,  9.10it/s]\n",
      "Epoch 65: 100%|██████████| 38/38 [00:04<00:00,  9.17it/s]\n",
      "Epoch 66: 100%|██████████| 38/38 [00:04<00:00,  9.09it/s]\n",
      "Epoch 67: 100%|██████████| 38/38 [00:04<00:00,  9.11it/s]\n",
      "Epoch 68:   5%|▌         | 2/38 [00:00<00:03, 10.26it/s]"
     ]
    },
    {
     "name": "stdout",
     "output_type": "stream",
     "text": [
      "Epoch    67: reducing learning rate of group 0 to 2.4300e-04.\n"
     ]
    },
    {
     "name": "stderr",
     "output_type": "stream",
     "text": [
      "Epoch 68: 100%|██████████| 38/38 [00:04<00:00,  9.11it/s]\n",
      "Epoch 69: 100%|██████████| 38/38 [00:04<00:00,  9.08it/s]\n",
      "Epoch 70: 100%|██████████| 38/38 [00:04<00:00,  9.22it/s]\n",
      "Epoch 71: 100%|██████████| 38/38 [00:04<00:00,  9.14it/s]\n",
      "Epoch 72: 100%|██████████| 38/38 [00:04<00:00,  9.05it/s]\n",
      "Epoch 73: 100%|██████████| 38/38 [00:04<00:00,  9.07it/s]\n",
      "Epoch 74: 100%|██████████| 38/38 [00:04<00:00,  9.00it/s]\n",
      "Epoch 75: 100%|██████████| 38/38 [00:04<00:00,  9.10it/s]\n",
      "Epoch 76: 100%|██████████| 38/38 [00:04<00:00,  9.08it/s]\n",
      "Epoch 77: 100%|██████████| 38/38 [00:04<00:00,  9.22it/s]\n",
      "Epoch 78: 100%|██████████| 38/38 [00:04<00:00,  9.12it/s]\n",
      "Epoch 79: 100%|██████████| 38/38 [00:04<00:00,  9.05it/s]\n",
      "Epoch 80: 100%|██████████| 38/38 [00:04<00:00,  9.02it/s]\n",
      "Epoch 81: 100%|██████████| 38/38 [00:04<00:00,  9.07it/s]\n",
      "Epoch 82: 100%|██████████| 38/38 [00:04<00:00,  9.10it/s]\n",
      "Epoch 83: 100%|██████████| 38/38 [00:04<00:00,  9.04it/s]\n",
      "Epoch 84: 100%|██████████| 38/38 [00:04<00:00,  8.99it/s]\n"
     ]
    }
   ],
   "source": [
    "validation_score_wt, trainer_output_wt, state_dict_wt = trainer_wt(model_wt, dataloaders_wildtype, seed=seed+1)"
   ]
  },
  {
   "cell_type": "code",
   "execution_count": 28,
   "metadata": {},
   "outputs": [],
   "source": [
    "torch.save(model_wt.state_dict(), './model_checkpoints/wildtype_model.pth')"
   ]
  },
  {
   "cell_type": "code",
   "execution_count": 29,
   "metadata": {},
   "outputs": [],
   "source": [
    "model_config_autistic = {'pad_input': False,\n",
    "  'stack': -1,\n",
    "  'layers': 4,\n",
    "  'input_kern': 9,\n",
    "  'gamma_input': 6.3831,\n",
    "  'gamma_readout': 0.0076,\n",
    "  'hidden_kern': 7,\n",
    "  'hidden_channels': 64,\n",
    "  'depth_separable': True,\n",
    "  'grid_mean_predictor': {'type': 'cortex',\n",
    "   'input_dimensions': 2,\n",
    "   'hidden_layers': 1,\n",
    "   'hidden_features': 30,\n",
    "   'final_tanh': True},\n",
    "  'init_sigma': 0.1,\n",
    "  'init_mu_range': 0.3,\n",
    "  'gauss_type': 'full',\n",
    "  'shifter': False,\n",
    "}\n",
    "\n",
    "model_a= get_model(model_fn=model_fn,\n",
    "                  model_config=model_config_autistic,\n",
    "                  dataloaders=dataloaders_autistic,\n",
    "                  seed=seed,\n",
    "                  )\n",
    "trainer_fn = \"sensorium.training.standard_trainer\"\n",
    "\n",
    "trainer_config_autistic = {'max_iter': 200,\n",
    "                 'verbose': True,\n",
    "                 'lr_decay_steps': 4,\n",
    "                 'avg_loss': False, \n",
    "                 'lr_init': 0.009,\n",
    "                 }\n",
    "\n",
    "trainer_a = get_trainer(trainer_fn=trainer_fn, \n",
    "                     trainer_config=trainer_config_autistic)"
   ]
  },
  {
   "cell_type": "code",
   "execution_count": 30,
   "metadata": {},
   "outputs": [
    {
     "name": "stderr",
     "output_type": "stream",
     "text": [
      "Epoch 1: 100%|██████████| 38/38 [00:04<00:00,  8.95it/s]\n",
      "Epoch 2: 100%|██████████| 38/38 [00:04<00:00,  9.02it/s]\n",
      "Epoch 3: 100%|██████████| 38/38 [00:04<00:00,  8.95it/s]\n",
      "Epoch 4: 100%|██████████| 38/38 [00:04<00:00,  8.86it/s]\n",
      "Epoch 5: 100%|██████████| 38/38 [00:04<00:00,  9.04it/s]\n",
      "Epoch 6: 100%|██████████| 38/38 [00:04<00:00,  9.01it/s]\n",
      "Epoch 7: 100%|██████████| 38/38 [00:04<00:00,  8.97it/s]\n",
      "Epoch 8: 100%|██████████| 38/38 [00:04<00:00,  9.00it/s]\n",
      "Epoch 9: 100%|██████████| 38/38 [00:04<00:00,  8.94it/s]\n",
      "Epoch 10: 100%|██████████| 38/38 [00:04<00:00,  9.00it/s]\n",
      "Epoch 11: 100%|██████████| 38/38 [00:04<00:00,  9.00it/s]\n",
      "Epoch 12: 100%|██████████| 38/38 [00:04<00:00,  9.09it/s]\n",
      "Epoch 13: 100%|██████████| 38/38 [00:04<00:00,  9.01it/s]\n",
      "Epoch 14: 100%|██████████| 38/38 [00:04<00:00,  8.98it/s]\n",
      "Epoch 15: 100%|██████████| 38/38 [00:04<00:00,  8.99it/s]\n",
      "Epoch 16: 100%|██████████| 38/38 [00:04<00:00,  9.00it/s]\n",
      "Epoch 17: 100%|██████████| 38/38 [00:04<00:00,  9.01it/s]\n",
      "Epoch 18: 100%|██████████| 38/38 [00:04<00:00,  8.93it/s]\n",
      "Epoch 19: 100%|██████████| 38/38 [00:04<00:00,  9.05it/s]\n",
      "Epoch 20: 100%|██████████| 38/38 [00:04<00:00,  8.98it/s]\n",
      "Epoch 21: 100%|██████████| 38/38 [00:04<00:00,  8.92it/s]\n",
      "Epoch 22: 100%|██████████| 38/38 [00:04<00:00,  9.14it/s]\n",
      "Epoch 23: 100%|██████████| 38/38 [00:04<00:00,  9.03it/s]\n",
      "Epoch 24: 100%|██████████| 38/38 [00:04<00:00,  8.99it/s]\n",
      "Epoch 25: 100%|██████████| 38/38 [00:04<00:00,  9.14it/s]\n",
      "Epoch 26: 100%|██████████| 38/38 [00:04<00:00,  9.03it/s]\n",
      "Epoch 27: 100%|██████████| 38/38 [00:04<00:00,  9.14it/s]\n",
      "Epoch 28: 100%|██████████| 38/38 [00:04<00:00,  9.05it/s]\n",
      "Epoch 29: 100%|██████████| 38/38 [00:04<00:00,  9.04it/s]\n",
      "Epoch 30: 100%|██████████| 38/38 [00:04<00:00,  9.06it/s]\n",
      "Epoch 31: 100%|██████████| 38/38 [00:04<00:00,  8.82it/s]\n",
      "Epoch 32: 100%|██████████| 38/38 [00:04<00:00,  8.94it/s]\n",
      "Epoch 33: 100%|██████████| 38/38 [00:04<00:00,  9.01it/s]\n",
      "Epoch 34: 100%|██████████| 38/38 [00:04<00:00,  9.03it/s]\n",
      "Epoch 35: 100%|██████████| 38/38 [00:04<00:00,  9.01it/s]\n",
      "Epoch 36: 100%|██████████| 38/38 [00:04<00:00,  9.05it/s]\n",
      "Epoch 37: 100%|██████████| 38/38 [00:04<00:00,  9.07it/s]\n",
      "Epoch 38: 100%|██████████| 38/38 [00:04<00:00,  9.07it/s]\n",
      "Epoch 39: 100%|██████████| 38/38 [00:04<00:00,  9.04it/s]\n",
      "Epoch 40: 100%|██████████| 38/38 [00:04<00:00,  9.14it/s]\n",
      "Epoch 41: 100%|██████████| 38/38 [00:04<00:00,  9.09it/s]\n",
      "Epoch 42: 100%|██████████| 38/38 [00:04<00:00,  8.98it/s]\n",
      "Epoch 43: 100%|██████████| 38/38 [00:04<00:00,  9.02it/s]\n",
      "Epoch 44: 100%|██████████| 38/38 [00:04<00:00,  8.92it/s]\n",
      "Epoch 45: 100%|██████████| 38/38 [00:04<00:00,  9.10it/s]\n",
      "Epoch 46: 100%|██████████| 38/38 [00:04<00:00,  8.97it/s]\n",
      "Epoch 47: 100%|██████████| 38/38 [00:04<00:00,  9.12it/s]\n",
      "Epoch 48: 100%|██████████| 38/38 [00:04<00:00,  8.99it/s]\n",
      "Epoch 49: 100%|██████████| 38/38 [00:04<00:00,  9.05it/s]\n",
      "Epoch 50: 100%|██████████| 38/38 [00:04<00:00,  9.05it/s]\n",
      "Epoch 51: 100%|██████████| 38/38 [00:04<00:00,  9.09it/s]\n",
      "Epoch 52: 100%|██████████| 38/38 [00:04<00:00,  8.93it/s]\n",
      "Epoch 53: 100%|██████████| 38/38 [00:04<00:00,  8.96it/s]\n",
      "Epoch 54:   0%|          | 0/38 [00:00<?, ?it/s]"
     ]
    },
    {
     "name": "stdout",
     "output_type": "stream",
     "text": [
      "Epoch    53: reducing learning rate of group 0 to 2.7000e-03.\n"
     ]
    },
    {
     "name": "stderr",
     "output_type": "stream",
     "text": [
      "Epoch 54: 100%|██████████| 38/38 [00:04<00:00,  8.99it/s]\n",
      "Epoch 55: 100%|██████████| 38/38 [00:04<00:00,  9.04it/s]\n",
      "Epoch 56: 100%|██████████| 38/38 [00:04<00:00,  8.99it/s]\n",
      "Epoch 57: 100%|██████████| 38/38 [00:04<00:00,  9.02it/s]\n",
      "Epoch 58: 100%|██████████| 38/38 [00:04<00:00,  8.85it/s]\n",
      "Epoch 59: 100%|██████████| 38/38 [00:04<00:00,  8.87it/s]\n",
      "Epoch 60: 100%|██████████| 38/38 [00:04<00:00,  8.90it/s]\n",
      "Epoch 61: 100%|██████████| 38/38 [00:04<00:00,  9.06it/s]\n",
      "Epoch 62: 100%|██████████| 38/38 [00:04<00:00,  8.68it/s]\n",
      "Epoch 63: 100%|██████████| 38/38 [00:04<00:00,  8.91it/s]\n",
      "Epoch 64: 100%|██████████| 38/38 [00:04<00:00,  9.10it/s]\n",
      "Epoch 65: 100%|██████████| 38/38 [00:04<00:00,  9.02it/s]\n",
      "Epoch 66: 100%|██████████| 38/38 [00:04<00:00,  9.05it/s]\n",
      "Epoch 67: 100%|██████████| 38/38 [00:04<00:00,  9.04it/s]\n",
      "Epoch 68: 100%|██████████| 38/38 [00:04<00:00,  9.01it/s]\n",
      "Epoch 69:   5%|▌         | 2/38 [00:00<00:03, 10.82it/s]"
     ]
    },
    {
     "name": "stdout",
     "output_type": "stream",
     "text": [
      "Epoch    68: reducing learning rate of group 0 to 8.1000e-04.\n"
     ]
    },
    {
     "name": "stderr",
     "output_type": "stream",
     "text": [
      "Epoch 69: 100%|██████████| 38/38 [00:04<00:00,  9.03it/s]\n",
      "Epoch 70: 100%|██████████| 38/38 [00:04<00:00,  8.97it/s]\n",
      "Epoch 71: 100%|██████████| 38/38 [00:04<00:00,  8.95it/s]\n",
      "Epoch 72: 100%|██████████| 38/38 [00:04<00:00,  8.99it/s]\n",
      "Epoch 73: 100%|██████████| 38/38 [00:04<00:00,  9.04it/s]\n",
      "Epoch 74: 100%|██████████| 38/38 [00:04<00:00,  9.08it/s]\n",
      "Epoch 75: 100%|██████████| 38/38 [00:04<00:00,  9.04it/s]\n",
      "Epoch 76: 100%|██████████| 38/38 [00:04<00:00,  9.10it/s]\n",
      "Epoch 77: 100%|██████████| 38/38 [00:04<00:00,  9.05it/s]\n",
      "Epoch 78: 100%|██████████| 38/38 [00:04<00:00,  8.95it/s]\n",
      "Epoch 79:   5%|▌         | 2/38 [00:00<00:03, 10.69it/s]"
     ]
    },
    {
     "name": "stdout",
     "output_type": "stream",
     "text": [
      "Epoch    78: reducing learning rate of group 0 to 2.4300e-04.\n"
     ]
    },
    {
     "name": "stderr",
     "output_type": "stream",
     "text": [
      "Epoch 79: 100%|██████████| 38/38 [00:04<00:00,  9.08it/s]\n",
      "Epoch 80: 100%|██████████| 38/38 [00:04<00:00,  9.00it/s]\n",
      "Epoch 81: 100%|██████████| 38/38 [00:04<00:00,  9.02it/s]\n",
      "Epoch 82: 100%|██████████| 38/38 [00:04<00:00,  8.99it/s]\n"
     ]
    }
   ],
   "source": [
    "validation_score_a, trainer_output_a, state_dict_a = trainer_a(model_a, dataloaders_autistic, seed=seed+1)"
   ]
  },
  {
   "cell_type": "code",
   "execution_count": 31,
   "metadata": {},
   "outputs": [],
   "source": [
    "torch.save(model_a.state_dict(), './model_checkpoints/autistic_model.pth')"
   ]
  }
 ],
 "metadata": {
  "kernelspec": {
   "display_name": "Python 3",
   "language": "python",
   "name": "python3"
  },
  "language_info": {
   "codemirror_mode": {
    "name": "ipython",
    "version": 3
   },
   "file_extension": ".py",
   "mimetype": "text/x-python",
   "name": "python",
   "nbconvert_exporter": "python",
   "pygments_lexer": "ipython3",
   "version": "3.8.0"
  }
 },
 "nbformat": 4,
 "nbformat_minor": 4
}
